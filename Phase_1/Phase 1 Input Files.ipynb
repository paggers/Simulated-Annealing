{
 "cells": [
  {
   "cell_type": "code",
   "execution_count": 52,
   "metadata": {
    "collapsed": true
   },
   "outputs": [],
   "source": [
    "import sys\n",
    "import os\n",
    "import numpy as np\n",
    "import random as rand"
   ]
  },
  {
   "cell_type": "markdown",
   "metadata": {},
   "source": [
    "# File Generation"
   ]
  },
  {
   "cell_type": "code",
   "execution_count": 53,
   "metadata": {
    "collapsed": true
   },
   "outputs": [],
   "source": [
    "def buildNameList(n, length=10):\n",
    "    names = []\n",
    "    char = rand.randrange(52)\n",
    "    if char >= 26:\n",
    "        char += 6\n",
    "    prefix = chr(char + 65)\n",
    "    for i in range(length - 2):\n",
    "        char = rand.randrange(62)\n",
    "        if char >= 36:\n",
    "            char = chr(char - 36 + 97)\n",
    "        elif char >= 10:\n",
    "            char = chr(char - 10 + 65)\n",
    "        else:\n",
    "            char = chr(char + 48)\n",
    "        prefix += char\n",
    "    possibleEnds = set([str(i) for i in range(10)])\n",
    "    for i in range(65, 91):\n",
    "        possibleEnds.add(chr(i))\n",
    "        possibleEnds.add(chr(i | 32))\n",
    "    for i in range(n):\n",
    "        char = rand.sample(possibleEnds, 1)[0]\n",
    "        possibleEnds.remove(char)\n",
    "        names.append(prefix + char)\n",
    "    return names"
   ]
  },
  {
   "cell_type": "code",
   "execution_count": 54,
   "metadata": {
    "collapsed": true
   },
   "outputs": [],
   "source": [
    "def minimalConstraints(lower, upper):\n",
    "    set_add = set()\n",
    "    set_add.add((lower, upper, upper + 1)) #Addition must exist outside of the ordered set\n",
    "    \n",
    "    belowAddition = rand.randint(lower+1, upper)\n",
    "    belowLower = rand.randint(lower, belowAddition - 1)\n",
    "    set_add.add((belowAddition, upper + 1, belowLower)) #Addition must come at the end of the ordered set, sufficiently random/relaxed\n",
    "    \n",
    "    return set_add\n",
    "\n",
    "def buildMinConstraints(n):\n",
    "    _n = int(n / 5)\n",
    "    constraints = set()\n",
    "    for i in range(5):\n",
    "        for j in range(_n - 2):\n",
    "#             print((i*5+1,i*5 + j + 2))\n",
    "            constraints = constraints.union(minimalConstraints(i*4+1,i*4 + j + 2))\n",
    "    for m in range(5):\n",
    "        s = m*_n+1\n",
    "        e = (m+1)*_n\n",
    "        for k in range(5):\n",
    "            if k!=m:\n",
    "                _s = k*_n+1\n",
    "                _e = (k+1)*_n\n",
    "                set_add = set()\n",
    "        #             print((k, k+_n, i*5+1))\n",
    "        #             print((k, k+_n, i*5+1+_n))\n",
    "                set_add.add((_s, _e, s))\n",
    "                set_add.add((_s, _e, e))\n",
    "                constraints = constraints.union(set_add)\n",
    "    return constraints"
   ]
  },
  {
   "cell_type": "code",
   "execution_count": 55,
   "metadata": {
    "collapsed": true
   },
   "outputs": [],
   "source": [
    "def blowEveryone(constraints):\n",
    "    newConstraints = set()\n",
    "    for i in constraints:\n",
    "        blowSomeone(constraints, newConstraints, i)\n",
    "    return newConstraints\n",
    "\n",
    "def blowSomeone(constraints, newConstraints, i):\n",
    "    lower = i[0]\n",
    "    upper = i[1]\n",
    "    boundRange = upper - lower\n",
    "    if boundRange > 1:\n",
    "        randomMid = (0 if boundRange == 2 else rand.randrange(boundRange - 2))  + 1 + lower\n",
    "        if newConstraints == None:\n",
    "            constraints.remove(i)\n",
    "            constraints.add((lower, randomMid, i[2]))\n",
    "            constraints.add((randomMid, upper, i[2]))\n",
    "        else:\n",
    "            newConstraints.add((lower, randomMid, i[2]))\n",
    "            newConstraints.add((randomMid, upper, i[2]))\n",
    "    else:\n",
    "        if newConstraints != None:\n",
    "            newConstraints.add(i)"
   ]
  },
  {
   "cell_type": "code",
   "execution_count": 56,
   "metadata": {
    "collapsed": true
   },
   "outputs": [],
   "source": [
    "def relaxMinConstraints(constraints, relaxFactor = 3):\n",
    "    newConstraints = set()\n",
    "    for i in constraints:\n",
    "        if rand.randrange(2) == 0:\n",
    "            #Relax constraint to not be so tight\n",
    "            lowerRandRange = rand.randrange(max(1, i[0] // relaxFactor))\n",
    "            upperRandRange = rand.randrange(max(1, (i[2] - i[1]) // relaxFactor))\n",
    "            newConstraints.add((i[0] - lowerRandRange, i[1] + upperRandRange, i[2]))\n",
    "        else:\n",
    "            newConstraints.add(i)\n",
    "    return newConstraints"
   ]
  },
  {
   "cell_type": "code",
   "execution_count": 57,
   "metadata": {
    "collapsed": true
   },
   "outputs": [],
   "source": [
    "def orderedPrint(s):\n",
    "    for i in range(20):\n",
    "        for j in s:\n",
    "            if j[0]==i+1:\n",
    "                print(j)"
   ]
  },
  {
   "cell_type": "code",
   "execution_count": 58,
   "metadata": {
    "collapsed": true
   },
   "outputs": [],
   "source": [
    "def expandConstraints(wizards, consLimit, tryLimit):\n",
    "    constraints = buildMinConstraints(wizards)\n",
    "    size = len(constraints)\n",
    "#     orderedPrint(constraints)\n",
    "#     print(size)\n",
    "    while 2 * size < consLimit:\n",
    "        constraints = blowEveryone(constraints)\n",
    "        if size == len(constraints): \n",
    "            break\n",
    "        else:\n",
    "            size = len(constraints)\n",
    "    #Fill in the blown up constraints, up to consLimit\n",
    "    while len(constraints) < consLimit and tryLimit > 0:\n",
    "        #Rate limit the number of tries \n",
    "        tryLimit -= 1\n",
    "        i = rand.sample(constraints, 1)[0]\n",
    "        blowSomeone(constraints, None, i)\n",
    "            \n",
    "    #Relax the well ordered minimal constraints a little\n",
    "    constraints = relaxMinConstraints(constraints, relaxFactor=4) #relaxFactor is a dividing factor of the relaxation range, smaller numbers give more relaxation/randomization but also provide stronger constraints\n",
    "    #Fill in the constraint limit with redundant/garbage constraints, up to 500\n",
    "    \n",
    "    return constraints"
   ]
  },
  {
   "cell_type": "code",
   "execution_count": 59,
   "metadata": {
    "collapsed": true
   },
   "outputs": [],
   "source": [
    "def randOrder(bound1, bound2, var):\n",
    "    if rand.randrange(2) == 0:\n",
    "        return (bound1, bound2, var)\n",
    "    else:\n",
    "        return (bound2, bound1, var)\n",
    "    \n",
    "def generateNoise(numWizards, n, realCons):\n",
    "    constraints = []\n",
    "    i=0\n",
    "    while i < n:\n",
    "        wiz = rand.randint(1, numWizards-1)\n",
    "        other = rand.randint(1, numWizards)\n",
    "        while other == wiz or other == wiz+1 or other == wiz-1:\n",
    "            other = rand.randint(1, numWizards)\n",
    "        con = (wiz, wiz+1, other)\n",
    "        if con not in constraints or con not in realCons:\n",
    "            constraints.append(con)\n",
    "            i+=1\n",
    "    return constraints"
   ]
  },
  {
   "cell_type": "markdown",
   "metadata": {},
   "source": [
    "# File Import/Export"
   ]
  },
  {
   "cell_type": "code",
   "execution_count": 60,
   "metadata": {
    "collapsed": true
   },
   "outputs": [],
   "source": [
    "def displayConstraints(constraints):\n",
    "    print(\"Constraints:\")\n",
    "    for i in constraints:\n",
    "        print(\" \", i)\n",
    "\n",
    "def exportConstraints(n, constraints, nameReplace=True, randomizeOrder=True):\n",
    "    constraints = list(constraints)\n",
    "    rand.shuffle(constraints)\n",
    "    string = str(n) + \"\\n\"\n",
    "    # Handle name replacement here\n",
    "    nameList = buildNameList(n)\n",
    "    # Generate list of loooooong random names, use numbers as indices of this list\n",
    "    for i in range(n):\n",
    "        string += (str(i + 1) if not nameReplace else nameList[i]) + (\" \" if i < n -1 else \"\")\n",
    "    string += \"\\n\"\n",
    "    string += str(len(constraints)) + \"\\n\"\n",
    "    for i in constraints:\n",
    "        if randomizeOrder:\n",
    "            i = randOrder(*i)\n",
    "        if nameReplace:\n",
    "            string += nameList[i[0] - 1] + \" \" + nameList[i[1] - 1] + \" \" + nameList[i[2] - 1] + \"\\n\"\n",
    "        else:\n",
    "            string += str(i[0]) + \" \" + str(i[1]) + \" \" + str(i[2]) + \"\\n\"\n",
    "        \n",
    "    #print(string)\n",
    "    f = open(\"input\" + str(n) + \".in\", \"w\")\n",
    "    f.write(string)\n",
    "    f.close()"
   ]
  },
  {
   "cell_type": "code",
   "execution_count": 82,
   "metadata": {
    "collapsed": true
   },
   "outputs": [],
   "source": [
    "def readInput(filename):\n",
    "    with open(filename) as f:\n",
    "        numWizards = int(f.readline())\n",
    "#         trueOrder = f.readline().split(\" \")\n",
    "        numConstraints = int(f.readline())\n",
    "        constraints = []\n",
    "        wizards = set()\n",
    "        for _ in range(numConstraints):\n",
    "            c = f.readline().split()\n",
    "            constraints.append(c)\n",
    "            for w in c:\n",
    "                wizards.add(w)\n",
    "\n",
    "    wizards = list(wizards)  \n",
    "    dictWizards = {}\n",
    "    for i in range(len(wizards)):\n",
    "        dictWizards[wizards[i]] = str(i + 1)\n",
    "    newConstraints = []\n",
    "    for i in constraints:\n",
    "        for j in range(3):\n",
    "            i[j] = dictWizards[i[j]]\n",
    "        if int(i[0]) > int(i[1]):\n",
    "            i[0], i[1] = i[1], i[0]\n",
    "    return numWizards, numConstraints, [str(i + 1) for i in range(numWizards)], constraints\n",
    "\n",
    "def displayInput(filename):\n",
    "    n, c, names, constraints = readInput(filename)\n",
    "    string = str(n) + \"\\n\"\n",
    "    string += \" \".join(names) + \"\\n\"\n",
    "    string += str(c) + \"\\n\"\n",
    "    for i in constraints:\n",
    "        string += \" \".join(i) + \"\\n\"\n",
    "    print(string)"
   ]
  },
  {
   "cell_type": "markdown",
   "metadata": {},
   "source": [
    "## input20.in"
   ]
  },
  {
   "cell_type": "code",
   "execution_count": 81,
   "metadata": {
    "collapsed": true
   },
   "outputs": [],
   "source": [
    "n = 20\n",
    "minimalConstraintLimit = n*10\n",
    "hardLimitToReachMinimal = n*5\n",
    "con = expandConstraints(n, minimalConstraintLimit, hardLimitToReachMinimal)\n",
    "noise = relaxMinConstraints(generateNoise(n, 201 - len(con), con))\n",
    "res = list(con) + list(noise)\n",
    "# res = list(con)\n",
    "exportConstraints(n, res, nameReplace=True, randomizeOrder=True)"
   ]
  },
  {
   "cell_type": "markdown",
   "metadata": {},
   "source": [
    "## input35.in"
   ]
  },
  {
   "cell_type": "raw",
   "metadata": {},
   "source": [
    "n = 35\n",
    "con = expandConstraints(n, minimalConstraintLimit, hardLimitToReachMinimal)\n",
    "noise = relaxMinConstraints(generateNoise(n, 500 - len(con), con))\n",
    "res = list(con) + list(noise)\n",
    "exportConstraints(n, res, nameReplace=True, randomizeOrder=True)\n"
   ]
  },
  {
   "cell_type": "markdown",
   "metadata": {},
   "source": [
    "## input50.in"
   ]
  },
  {
   "cell_type": "raw",
   "metadata": {
    "collapsed": true
   },
   "source": [
    "n = 50\n",
    "con = expandConstraints(n, minimalConstraintLimit, hardLimitToReachMinimal)\n",
    "noise = relaxMinConstraints(generateNoise(n, 500 - len(con), con))\n",
    "res = list(con) + list(noise)\n",
    "exportConstraints(n, res, nameReplace=True, randomizeOrder=True)\n"
   ]
  },
  {
   "cell_type": "markdown",
   "metadata": {
    "collapsed": true
   },
   "source": [
    "# Statistics "
   ]
  },
  {
   "cell_type": "code",
   "execution_count": null,
   "metadata": {
    "collapsed": true
   },
   "outputs": [],
   "source": [
    "stats = np.zeros(20*20+1)\n",
    "for i in res:\n",
    "    stats[i[0]*20+i[1]] += 1"
   ]
  },
  {
   "cell_type": "code",
   "execution_count": null,
   "metadata": {
    "collapsed": true
   },
   "outputs": [],
   "source": [
    "import matplotlib.pyplot as plt\n",
    "plt.plot(stats[stats!=0])\n",
    "plt.show()\n",
    "len(stats[stats!=0])"
   ]
  },
  {
   "cell_type": "code",
   "execution_count": null,
   "metadata": {
    "collapsed": true
   },
   "outputs": [],
   "source": [
    "highPairs = [i for i, x in enumerate(stats>5) if x]\n",
    "for i in highPairs:\n",
    "    print((i//20,i%20))"
   ]
  },
  {
   "cell_type": "code",
   "execution_count": null,
   "metadata": {
    "collapsed": true
   },
   "outputs": [],
   "source": [
    "for asd in range(0,0):\n",
    "    print('hi')"
   ]
  },
  {
   "cell_type": "code",
   "execution_count": null,
   "metadata": {
    "collapsed": true
   },
   "outputs": [],
   "source": [
    "range()"
   ]
  },
  {
   "cell_type": "code",
   "execution_count": null,
   "metadata": {
    "collapsed": true
   },
   "outputs": [],
   "source": []
  },
  {
   "cell_type": "code",
   "execution_count": 83,
   "metadata": {
    "collapsed": true
   },
   "outputs": [],
   "source": [
    "a,b,c,d = readInput('input20_0.in')"
   ]
  },
  {
   "cell_type": "code",
   "execution_count": 84,
   "metadata": {},
   "outputs": [
    {
     "data": {
      "text/plain": [
       "20"
      ]
     },
     "execution_count": 84,
     "metadata": {},
     "output_type": "execute_result"
    }
   ],
   "source": [
    "a"
   ]
  },
  {
   "cell_type": "code",
   "execution_count": 85,
   "metadata": {},
   "outputs": [
    {
     "data": {
      "text/plain": [
       "500"
      ]
     },
     "execution_count": 85,
     "metadata": {},
     "output_type": "execute_result"
    }
   ],
   "source": [
    "b"
   ]
  },
  {
   "cell_type": "code",
   "execution_count": 86,
   "metadata": {},
   "outputs": [
    {
     "data": {
      "text/plain": [
       "['1',\n",
       " '2',\n",
       " '3',\n",
       " '4',\n",
       " '5',\n",
       " '6',\n",
       " '7',\n",
       " '8',\n",
       " '9',\n",
       " '10',\n",
       " '11',\n",
       " '12',\n",
       " '13',\n",
       " '14',\n",
       " '15',\n",
       " '16',\n",
       " '17',\n",
       " '18',\n",
       " '19',\n",
       " '20']"
      ]
     },
     "execution_count": 86,
     "metadata": {},
     "output_type": "execute_result"
    }
   ],
   "source": [
    "c"
   ]
  },
  {
   "cell_type": "code",
   "execution_count": 87,
   "metadata": {},
   "outputs": [
    {
     "data": {
      "text/plain": [
       "[['3', '10', '17'],\n",
       " ['1', '2', '19'],\n",
       " ['3', '4', '17'],\n",
       " ['10', '13', '5'],\n",
       " ['1', '2', '20'],\n",
       " ['3', '17', '2'],\n",
       " ['6', '11', '12'],\n",
       " ['7', '12', '17'],\n",
       " ['2', '17', '7'],\n",
       " ['8', '13', '20'],\n",
       " ['5', '11', '10'],\n",
       " ['1', '3', '19'],\n",
       " ['3', '17', '1'],\n",
       " ['3', '17', '11'],\n",
       " ['4', '5', '12'],\n",
       " ['5', '9', '18'],\n",
       " ['3', '17', '2'],\n",
       " ['19', '20', '14'],\n",
       " ['10', '15', '16'],\n",
       " ['1', '19', '14'],\n",
       " ['11', '12', '5'],\n",
       " ['8', '20', '19'],\n",
       " ['7', '13', '3'],\n",
       " ['10', '14', '11'],\n",
       " ['3', '17', '1'],\n",
       " ['5', '11', '9'],\n",
       " ['5', '11', '9'],\n",
       " ['2', '17', '12'],\n",
       " ['5', '11', '9'],\n",
       " ['2', '4', '17'],\n",
       " ['7', '20', '10'],\n",
       " ['2', '8', '19'],\n",
       " ['13', '16', '7'],\n",
       " ['1', '18', '17'],\n",
       " ['14', '18', '9'],\n",
       " ['8', '10', '11'],\n",
       " ['2', '3', '20'],\n",
       " ['5', '13', '1'],\n",
       " ['5', '14', '3'],\n",
       " ['3', '17', '20'],\n",
       " ['5', '11', '10'],\n",
       " ['5', '9', '7'],\n",
       " ['8', '15', '20'],\n",
       " ['5', '9', '16'],\n",
       " ['7', '19', '11'],\n",
       " ['5', '11', '10'],\n",
       " ['8', '11', '17'],\n",
       " ['15', '18', '12'],\n",
       " ['5', '10', '7'],\n",
       " ['2', '17', '8'],\n",
       " ['1', '17', '19'],\n",
       " ['6', '18', '11'],\n",
       " ['8', '11', '20'],\n",
       " ['17', '20', '8'],\n",
       " ['3', '17', '1'],\n",
       " ['6', '13', '8'],\n",
       " ['2', '9', '5'],\n",
       " ['15', '16', '2'],\n",
       " ['12', '14', '16'],\n",
       " ['9', '17', '5'],\n",
       " ['1', '3', '8'],\n",
       " ['5', '6', '1'],\n",
       " ['1', '3', '8'],\n",
       " ['11', '15', '18'],\n",
       " ['4', '12', '2'],\n",
       " ['10', '14', '8'],\n",
       " ['1', '17', '14'],\n",
       " ['1', '3', '20'],\n",
       " ['1', '13', '17'],\n",
       " ['2', '3', '20'],\n",
       " ['12', '17', '19'],\n",
       " ['1', '17', '2'],\n",
       " ['9', '10', '18'],\n",
       " ['2', '13', '11'],\n",
       " ['1', '8', '9'],\n",
       " ['10', '13', '11'],\n",
       " ['5', '11', '10'],\n",
       " ['1', '6', '17'],\n",
       " ['3', '8', '5'],\n",
       " ['5', '10', '9'],\n",
       " ['8', '18', '7'],\n",
       " ['2', '3', '8'],\n",
       " ['1', '18', '10'],\n",
       " ['10', '18', '12'],\n",
       " ['1', '13', '5'],\n",
       " ['7', '18', '14'],\n",
       " ['8', '16', '3'],\n",
       " ['9', '10', '7'],\n",
       " ['10', '15', '16'],\n",
       " ['5', '11', '9'],\n",
       " ['5', '10', '9'],\n",
       " ['17', '20', '12'],\n",
       " ['1', '17', '16'],\n",
       " ['2', '20', '1'],\n",
       " ['2', '8', '12'],\n",
       " ['14', '18', '12'],\n",
       " ['4', '9', '17'],\n",
       " ['13', '14', '3'],\n",
       " ['3', '17', '2'],\n",
       " ['14', '15', '9'],\n",
       " ['1', '19', '18'],\n",
       " ['17', '19', '16'],\n",
       " ['8', '19', '20'],\n",
       " ['3', '17', '1'],\n",
       " ['3', '8', '11'],\n",
       " ['10', '12', '5'],\n",
       " ['5', '9', '16'],\n",
       " ['11', '12', '20'],\n",
       " ['5', '10', '9'],\n",
       " ['3', '17', '1'],\n",
       " ['3', '8', '10'],\n",
       " ['7', '9', '16'],\n",
       " ['1', '3', '20'],\n",
       " ['8', '13', '9'],\n",
       " ['4', '11', '12'],\n",
       " ['7', '20', '9'],\n",
       " ['1', '19', '16'],\n",
       " ['5', '19', '17'],\n",
       " ['8', '20', '12'],\n",
       " ['12', '16', '10'],\n",
       " ['17', '20', '12'],\n",
       " ['12', '19', '14'],\n",
       " ['11', '20', '5'],\n",
       " ['6', '15', '16'],\n",
       " ['2', '8', '14'],\n",
       " ['7', '10', '11'],\n",
       " ['1', '19', '14'],\n",
       " ['1', '17', '14'],\n",
       " ['7', '11', '5'],\n",
       " ['2', '17', '8'],\n",
       " ['3', '4', '10'],\n",
       " ['5', '11', '9'],\n",
       " ['4', '18', '12'],\n",
       " ['4', '15', '5'],\n",
       " ['3', '17', '19'],\n",
       " ['5', '11', '10'],\n",
       " ['1', '20', '8'],\n",
       " ['10', '13', '2'],\n",
       " ['6', '9', '18'],\n",
       " ['4', '20', '17'],\n",
       " ['4', '15', '12'],\n",
       " ['5', '11', '10'],\n",
       " ['5', '19', '3'],\n",
       " ['8', '19', '7'],\n",
       " ['5', '10', '9'],\n",
       " ['11', '15', '17'],\n",
       " ['1', '20', '14'],\n",
       " ['9', '18', '10'],\n",
       " ['9', '16', '2'],\n",
       " ['7', '15', '11'],\n",
       " ['7', '9', '18'],\n",
       " ['6', '14', '8'],\n",
       " ['3', '17', '1'],\n",
       " ['2', '12', '19'],\n",
       " ['6', '15', '8'],\n",
       " ['10', '11', '7'],\n",
       " ['6', '15', '14'],\n",
       " ['3', '16', '11'],\n",
       " ['3', '8', '14'],\n",
       " ['5', '9', '7'],\n",
       " ['6', '13', '17'],\n",
       " ['8', '13', '5'],\n",
       " ['5', '11', '10'],\n",
       " ['2', '20', '8'],\n",
       " ['16', '17', '7'],\n",
       " ['3', '20', '10'],\n",
       " ['7', '11', '1'],\n",
       " ['1', '3', '12'],\n",
       " ['3', '17', '2'],\n",
       " ['1', '16', '3'],\n",
       " ['8', '12', '20'],\n",
       " ['15', '20', '11'],\n",
       " ['1', '17', '2'],\n",
       " ['2', '3', '14'],\n",
       " ['3', '15', '7'],\n",
       " ['14', '18', '19'],\n",
       " ['7', '15', '16'],\n",
       " ['6', '19', '11'],\n",
       " ['3', '17', '1'],\n",
       " ['5', '6', '16'],\n",
       " ['15', '16', '14'],\n",
       " ['10', '16', '12'],\n",
       " ['7', '19', '17'],\n",
       " ['3', '10', '11'],\n",
       " ['3', '17', '16'],\n",
       " ['1', '17', '2'],\n",
       " ['6', '7', '3'],\n",
       " ['1', '20', '8'],\n",
       " ['15', '16', '18'],\n",
       " ['11', '15', '5'],\n",
       " ['8', '9', '10'],\n",
       " ['10', '15', '5'],\n",
       " ['6', '18', '3'],\n",
       " ['5', '11', '9'],\n",
       " ['3', '12', '18'],\n",
       " ['1', '2', '20'],\n",
       " ['9', '18', '2'],\n",
       " ['15', '17', '5'],\n",
       " ['7', '10', '2'],\n",
       " ['2', '17', '20'],\n",
       " ['15', '19', '1'],\n",
       " ['3', '17', '1'],\n",
       " ['13', '16', '18'],\n",
       " ['5', '10', '7'],\n",
       " ['17', '18', '16'],\n",
       " ['16', '18', '17'],\n",
       " ['15', '17', '10'],\n",
       " ['5', '11', '10'],\n",
       " ['3', '20', '14'],\n",
       " ['1', '20', '17'],\n",
       " ['3', '14', '18'],\n",
       " ['8', '17', '19'],\n",
       " ['3', '17', '1'],\n",
       " ['8', '12', '19'],\n",
       " ['3', '8', '18'],\n",
       " ['2', '12', '5'],\n",
       " ['6', '13', '14'],\n",
       " ['4', '8', '5'],\n",
       " ['8', '13', '20'],\n",
       " ['1', '3', '16'],\n",
       " ['5', '11', '10'],\n",
       " ['3', '20', '8'],\n",
       " ['8', '18', '9'],\n",
       " ['2', '12', '14'],\n",
       " ['2', '20', '8'],\n",
       " ['10', '15', '14'],\n",
       " ['7', '14', '20'],\n",
       " ['7', '16', '14'],\n",
       " ['2', '17', '8'],\n",
       " ['4', '14', '17'],\n",
       " ['4', '18', '20'],\n",
       " ['4', '5', '1'],\n",
       " ['5', '7', '12'],\n",
       " ['4', '5', '18'],\n",
       " ['3', '17', '20'],\n",
       " ['15', '16', '8'],\n",
       " ['8', '10', '5'],\n",
       " ['4', '12', '9'],\n",
       " ['12', '20', '19'],\n",
       " ['4', '12', '8'],\n",
       " ['3', '16', '17'],\n",
       " ['1', '3', '16'],\n",
       " ['9', '11', '18'],\n",
       " ['6', '14', '3'],\n",
       " ['3', '14', '11'],\n",
       " ['7', '13', '10'],\n",
       " ['15', '20', '5'],\n",
       " ['2', '12', '19'],\n",
       " ['4', '10', '14'],\n",
       " ['12', '20', '1'],\n",
       " ['5', '20', '1'],\n",
       " ['7', '10', '19'],\n",
       " ['2', '3', '20'],\n",
       " ['5', '11', '7'],\n",
       " ['5', '9', '7'],\n",
       " ['8', '20', '2'],\n",
       " ['6', '13', '18'],\n",
       " ['10', '12', '2'],\n",
       " ['4', '14', '16'],\n",
       " ['1', '17', '20'],\n",
       " ['3', '7', '17'],\n",
       " ['1', '14', '17'],\n",
       " ['9', '16', '12'],\n",
       " ['1', '3', '8'],\n",
       " ['1', '8', '16'],\n",
       " ['6', '7', '5'],\n",
       " ['2', '20', '12'],\n",
       " ['4', '10', '3'],\n",
       " ['4', '15', '19'],\n",
       " ['1', '3', '5'],\n",
       " ['12', '13', '16'],\n",
       " ['9', '13', '12'],\n",
       " ['2', '15', '11'],\n",
       " ['1', '20', '11'],\n",
       " ['6', '7', '1'],\n",
       " ['9', '10', '16'],\n",
       " ['9', '11', '7'],\n",
       " ['4', '16', '14'],\n",
       " ['13', '16', '7'],\n",
       " ['7', '19', '11'],\n",
       " ['5', '9', '18'],\n",
       " ['1', '17', '8'],\n",
       " ['2', '3', '20'],\n",
       " ['10', '11', '9'],\n",
       " ['11', '16', '14'],\n",
       " ['1', '3', '2'],\n",
       " ['14', '16', '8'],\n",
       " ['6', '11', '20'],\n",
       " ['7', '9', '18'],\n",
       " ['1', '18', '16'],\n",
       " ['3', '17', '1'],\n",
       " ['12', '18', '16'],\n",
       " ['6', '9', '16'],\n",
       " ['3', '17', '20'],\n",
       " ['12', '14', '18'],\n",
       " ['3', '8', '19'],\n",
       " ['10', '11', '7'],\n",
       " ['5', '6', '16'],\n",
       " ['9', '11', '7'],\n",
       " ['10', '18', '8'],\n",
       " ['15', '19', '17'],\n",
       " ['12', '15', '3'],\n",
       " ['2', '11', '17'],\n",
       " ['5', '11', '7'],\n",
       " ['1', '17', '2'],\n",
       " ['10', '11', '7'],\n",
       " ['6', '20', '9'],\n",
       " ['3', '17', '1'],\n",
       " ['2', '10', '3'],\n",
       " ['1', '17', '14'],\n",
       " ['4', '16', '3'],\n",
       " ['12', '17', '19'],\n",
       " ['9', '15', '19'],\n",
       " ['3', '17', '19'],\n",
       " ['5', '9', '8'],\n",
       " ['11', '16', '14'],\n",
       " ['3', '17', '1'],\n",
       " ['6', '10', '11'],\n",
       " ['2', '3', '20'],\n",
       " ['2', '14', '5'],\n",
       " ['4', '18', '7'],\n",
       " ['9', '11', '16'],\n",
       " ['8', '13', '5'],\n",
       " ['5', '19', '12'],\n",
       " ['3', '17', '20'],\n",
       " ['2', '15', '11'],\n",
       " ['1', '17', '8'],\n",
       " ['4', '18', '3'],\n",
       " ['2', '13', '16'],\n",
       " ['13', '15', '19'],\n",
       " ['18', '19', '7'],\n",
       " ['3', '17', '20'],\n",
       " ['4', '12', '11'],\n",
       " ['5', '14', '19'],\n",
       " ['14', '15', '12'],\n",
       " ['11', '12', '8'],\n",
       " ['14', '15', '20'],\n",
       " ['3', '17', '14'],\n",
       " ['7', '15', '2'],\n",
       " ['9', '14', '20'],\n",
       " ['15', '20', '9'],\n",
       " ['7', '11', '17'],\n",
       " ['9', '10', '12'],\n",
       " ['11', '14', '3'],\n",
       " ['16', '19', '3'],\n",
       " ['4', '15', '12'],\n",
       " ['9', '11', '12'],\n",
       " ['9', '16', '10'],\n",
       " ['9', '12', '8'],\n",
       " ['10', '11', '9'],\n",
       " ['3', '13', '11'],\n",
       " ['3', '17', '1'],\n",
       " ['5', '15', '14'],\n",
       " ['1', '3', '2'],\n",
       " ['1', '11', '3'],\n",
       " ['7', '10', '18'],\n",
       " ['2', '3', '12'],\n",
       " ['12', '19', '20'],\n",
       " ['1', '2', '18'],\n",
       " ['1', '4', '17'],\n",
       " ['5', '19', '17'],\n",
       " ['10', '16', '2'],\n",
       " ['1', '8', '17'],\n",
       " ['10', '12', '2'],\n",
       " ['19', '20', '17'],\n",
       " ['1', '16', '7'],\n",
       " ['3', '6', '5'],\n",
       " ['5', '7', '19'],\n",
       " ['6', '15', '16'],\n",
       " ['4', '15', '17'],\n",
       " ['13', '15', '18'],\n",
       " ['2', '17', '14'],\n",
       " ['14', '16', '3'],\n",
       " ['1', '3', '2'],\n",
       " ['4', '9', '18'],\n",
       " ['3', '17', '1'],\n",
       " ['1', '4', '11'],\n",
       " ['11', '13', '8'],\n",
       " ['6', '20', '3'],\n",
       " ['10', '14', '8'],\n",
       " ['13', '18', '8'],\n",
       " ['2', '8', '11'],\n",
       " ['8', '20', '12'],\n",
       " ['2', '11', '17'],\n",
       " ['3', '17', '1'],\n",
       " ['12', '20', '19'],\n",
       " ['2', '20', '14'],\n",
       " ['12', '20', '19'],\n",
       " ['8', '20', '19'],\n",
       " ['2', '14', '10'],\n",
       " ['3', '15', '10'],\n",
       " ['3', '17', '1'],\n",
       " ['2', '3', '20'],\n",
       " ['6', '12', '8'],\n",
       " ['8', '19', '14'],\n",
       " ['1', '3', '2'],\n",
       " ['5', '13', '3'],\n",
       " ['15', '18', '12'],\n",
       " ['6', '13', '5'],\n",
       " ['2', '10', '17'],\n",
       " ['1', '3', '20'],\n",
       " ['5', '13', '19'],\n",
       " ['2', '8', '16'],\n",
       " ['7', '15', '16'],\n",
       " ['5', '11', '10'],\n",
       " ['16', '17', '5'],\n",
       " ['15', '20', '17'],\n",
       " ['13', '15', '17'],\n",
       " ['3', '17', '2'],\n",
       " ['4', '16', '11'],\n",
       " ['12', '13', '3'],\n",
       " ['4', '12', '3'],\n",
       " ['13', '20', '17'],\n",
       " ['1', '3', '5'],\n",
       " ['4', '15', '3'],\n",
       " ['7', '16', '11'],\n",
       " ['13', '14', '7'],\n",
       " ['11', '15', '19'],\n",
       " ['12', '18', '9'],\n",
       " ['1', '17', '14'],\n",
       " ['7', '9', '5'],\n",
       " ['2', '3', '12'],\n",
       " ['5', '13', '14'],\n",
       " ['12', '18', '1'],\n",
       " ['6', '10', '18'],\n",
       " ['17', '19', '11'],\n",
       " ['3', '18', '11'],\n",
       " ['10', '11', '9'],\n",
       " ['3', '17', '1'],\n",
       " ['3', '17', '1'],\n",
       " ['5', '6', '2'],\n",
       " ['7', '11', '17'],\n",
       " ['18', '20', '3'],\n",
       " ['9', '11', '7'],\n",
       " ['11', '19', '3'],\n",
       " ['9', '14', '11'],\n",
       " ['6', '15', '3'],\n",
       " ['6', '8', '1'],\n",
       " ['5', '11', '9'],\n",
       " ['6', '18', '17'],\n",
       " ['8', '9', '5'],\n",
       " ['3', '17', '20'],\n",
       " ['1', '20', '16'],\n",
       " ['3', '17', '1'],\n",
       " ['9', '11', '16'],\n",
       " ['8', '17', '12'],\n",
       " ['1', '17', '8'],\n",
       " ['1', '2', '8'],\n",
       " ['14', '17', '7'],\n",
       " ['5', '10', '7'],\n",
       " ['5', '18', '20'],\n",
       " ['7', '15', '11'],\n",
       " ['10', '11', '7'],\n",
       " ['4', '16', '20'],\n",
       " ['12', '20', '19'],\n",
       " ['3', '17', '1'],\n",
       " ['16', '20', '9'],\n",
       " ['5', '10', '19'],\n",
       " ['9', '18', '3'],\n",
       " ['1', '17', '2'],\n",
       " ['6', '15', '18'],\n",
       " ['4', '9', '18'],\n",
       " ['6', '9', '2'],\n",
       " ['2', '16', '1'],\n",
       " ['4', '7', '11'],\n",
       " ['19', '20', '2'],\n",
       " ['3', '8', '17'],\n",
       " ['3', '12', '7'],\n",
       " ['3', '17', '1'],\n",
       " ['9', '10', '7'],\n",
       " ['1', '4', '16'],\n",
       " ['7', '15', '9'],\n",
       " ['5', '11', '10'],\n",
       " ['7', '8', '10'],\n",
       " ['10', '14', '5'],\n",
       " ['5', '10', '9'],\n",
       " ['6', '16', '12'],\n",
       " ['12', '13', '16'],\n",
       " ['15', '18', '14'],\n",
       " ['2', '11', '1'],\n",
       " ['5', '13', '2'],\n",
       " ['5', '11', '10'],\n",
       " ['1', '20', '12'],\n",
       " ['3', '20', '8'],\n",
       " ['5', '16', '18'],\n",
       " ['4', '5', '12'],\n",
       " ['1', '17', '20'],\n",
       " ['2', '12', '11'],\n",
       " ['1', '19', '17'],\n",
       " ['10', '11', '7'],\n",
       " ['5', '10', '9'],\n",
       " ['12', '13', '3'],\n",
       " ['2', '20', '3'],\n",
       " ['2', '8', '18'],\n",
       " ['10', '13', '11'],\n",
       " ['9', '11', '19'],\n",
       " ['7', '13', '18'],\n",
       " ['8', '11', '1'],\n",
       " ['5', '11', '16'],\n",
       " ['5', '9', '3']]"
      ]
     },
     "execution_count": 87,
     "metadata": {},
     "output_type": "execute_result"
    }
   ],
   "source": [
    "d"
   ]
  },
  {
   "cell_type": "code",
   "execution_count": 91,
   "metadata": {},
   "outputs": [],
   "source": [
    "stats = np.zeros(20*20+1)\n",
    "for i in d:\n",
    "    stats[int(i[0])*20+int(i[1])] += 1"
   ]
  },
  {
   "cell_type": "code",
   "execution_count": 97,
   "metadata": {},
   "outputs": [
    {
     "name": "stdout",
     "output_type": "stream",
     "text": [
      "(1, 3)\n",
      "(1, 17)\n",
      "(3, 17)\n",
      "(5, 11)\n"
     ]
    }
   ],
   "source": [
    "highPairs = [i for i, x in enumerate(stats>10) if x]\n",
    "for i in highPairs:\n",
    "    print((i//20,i%20))"
   ]
  },
  {
   "cell_type": "code",
   "execution_count": 95,
   "metadata": {},
   "outputs": [
    {
     "data": {
      "image/png": "[encoded data removed]",
      "text/plain": [
       "<matplotlib.figure.Figure at 0x10ce73be0>"
      ]
     },
     "metadata": {},
     "output_type": "display_data"
    },
    {
     "data": {
      "text/plain": [
       "154"
      ]
     },
     "execution_count": 95,
     "metadata": {},
     "output_type": "execute_result"
    }
   ],
   "source": [
    "import matplotlib.pyplot as plt\n",
    "plt.plot(stats[stats!=0])\n",
    "plt.show()\n",
    "len(stats[stats!=0])"
   ]
  },
  {
   "cell_type": "code",
   "execution_count": null,
   "metadata": {
    "collapsed": true
   },
   "outputs": [],
   "source": []
  }
 ],
 "metadata": {
  "kernelspec": {
   "display_name": "Python 3",
   "language": "python",
   "name": "python3"
  },
  "language_info": {
   "codemirror_mode": {
    "name": "ipython",
    "version": 3
   },
   "file_extension": ".py",
   "mimetype": "text/x-python",
   "name": "python",
   "nbconvert_exporter": "python",
   "pygments_lexer": "ipython3",
   "version": "3.6.1"
  }
 },
 "nbformat": 4,
 "nbformat_minor": 2
}
