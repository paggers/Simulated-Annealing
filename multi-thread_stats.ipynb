{
 "cells": [
  {
   "cell_type": "code",
   "execution_count": 1,
   "metadata": {
    "collapsed": true
   },
   "outputs": [],
   "source": [
    "import sys\n",
    "import os\n",
    "import numpy as np\n",
    "import random as rand\n",
    "import math\n",
    "import matplotlib.pyplot as plt\n",
    "from pathlib import Path\n",
    "from multiprocessing import Pool\n",
    "from functools import partial"
   ]
  },
  {
   "cell_type": "code",
   "execution_count": 2,
   "metadata": {
    "collapsed": true
   },
   "outputs": [],
   "source": [
    "def readInput(filename):\n",
    "    with open(filename) as f:\n",
    "        numWizards = int(f.readline())\n",
    "        numConstraints = int(f.readline())\n",
    "        constraints = []\n",
    "        shot_in_the_dark = []\n",
    "        wizards = set()\n",
    "        for _ in range(numConstraints):\n",
    "            c = f.readline().split()\n",
    "            constraints.append(c)\n",
    "            for w in c:\n",
    "                if w not in wizards:\n",
    "                    shot_in_the_dark.append(w)\n",
    "                wizards.add(w)    \n",
    "    wizards = list(wizards)\n",
    "    wizards.sort()\n",
    "    dictWizards = {}\n",
    "    for i in range(len(wizards)):\n",
    "        dictWizards[wizards[i]] = i\n",
    "    \n",
    "    for i in constraints:\n",
    "        for j in range(3):\n",
    "            i[j] = dictWizards[i[j]]\n",
    "        if int(i[0]) > int(i[1]):\n",
    "            i[0], i[1] = i[1], i[0]\n",
    "    return numWizards, numConstraints, list(range(numWizards)), constraints\n",
    "\n",
    "def displayInput(filename):\n",
    "    n, c, names, constraints = readInput(filename)\n",
    "    string = str(n) + \"\\n\"\n",
    "    string += \" \".join(names) + \"\\n\"\n",
    "    string += str(c) + \"\\n\"\n",
    "    for i in constraints:\n",
    "        string += \" \".join(i) + \"\\n\"\n",
    "    print(string)\n",
    "    \n",
    "def reinterpret(num, seq):\n",
    "    with open('./Staff_Inputs/staff_' + str(num) +  '.in') as f:\n",
    "        numWizards = int(f.readline())\n",
    "        numConstraints = int(f.readline())\n",
    "        constraints = []\n",
    "        wizards = set()\n",
    "        for _ in range(numConstraints):\n",
    "            c = f.readline().split()\n",
    "            constraints.append(c)\n",
    "            for w in c:\n",
    "                wizards.add(w)\n",
    "    wizards = sorted(list(wizards))\n",
    "    dictWizards = {}\n",
    "    for i in range(len(wizards)):\n",
    "        dictWizards[i] = wizards[i]\n",
    "    newOrder = [0] * len(seq)\n",
    "    for i in range(len(seq)):\n",
    "        newOrder[seq[i]] = dictWizards[i]\n",
    "    writeOutput(num, 0, newOrder, constraints)\n",
    "    \n",
    "def writeOutput(num, idx, order, constraints):\n",
    "    string = str(len(order))\n",
    "    string += \"\\n\"\n",
    "    for i in order:\n",
    "        string += i + \" \"\n",
    "    string += \"\\n\" + str(len(constraints)) + \"\\n\"\n",
    "    for i in constraints:\n",
    "        for j in i: \n",
    "            string += j + \" \"\n",
    "        string += \"\\n\"\n",
    "    f = open('./outputs/input' + str(num) + '_' + str(idx) + '.out', 'w')\n",
    "    f.write(string)\n",
    "    f.close()\n",
    "    \n",
    "def instanceValidator(num, idx):\n",
    "    file = './outputs/input' + str(num) + '_' + str(idx) + '.out'\n",
    "    input_size = str(num)\n",
    "    !python instance_validator.py $file $input_size\n",
    "    \n",
    "def eric_bachman(filename, sol):\n",
    "    output_file = 'eric_bachman.out'\n",
    "    f = open(output_file, 'w')\n",
    "    !python output_validator.py $filename $output_file"
   ]
  },
  {
   "cell_type": "code",
   "execution_count": 3,
   "metadata": {
    "collapsed": true
   },
   "outputs": [],
   "source": [
    "# assigment is a dict: wix->index, constraints: list((a,b,c) ... (x,y,z))\n",
    "def h(assigment, constraints):\n",
    "    conflicts = 0\n",
    "    for constraint in constraints:\n",
    "        try:\n",
    "            t0, t1 = assigment[constraint[0]], assigment[constraint[1]]\n",
    "        except:\n",
    "            print(constraint)\n",
    "            print(len(assigment), assigment)\n",
    "        a = t0 if (t0 < t1) else t1\n",
    "        b = t0 + t1 - a\n",
    "        c = assigment[constraint[2]]\n",
    "        if a<c and c<b:\n",
    "            conflicts += 1\n",
    "    return conflicts"
   ]
  },
  {
   "cell_type": "code",
   "execution_count": 4,
   "metadata": {
    "collapsed": true
   },
   "outputs": [],
   "source": [
    "#currently gives a random assigment\n",
    "def getAssigment(numWiz, wizs):\n",
    "    indecies = list(range(1,numWiz+1))\n",
    "    rand.shuffle(indecies)\n",
    "    ass = {wizs[i]:indecies[i] for i in range(len(wizs))}\n",
    "    return ass"
   ]
  },
  {
   "cell_type": "code",
   "execution_count": 5,
   "metadata": {
    "collapsed": true
   },
   "outputs": [],
   "source": [
    "#Hill climbing solver\n",
    "def solve(wizs, constraints):\n",
    "    numWiz = len(wizs)\n",
    "    numCons = len(constraints)\n",
    "    ass = getAssigment(numWiz, wizs)\n",
    "    conflicts = h(ass, constraints) \n",
    "    while conflicts > 0:\n",
    "        best_score = conflicts\n",
    "        for i in range(numWiz):\n",
    "            for j in range(i+1,numWiz):\n",
    "                x = ass[wizs[i]]\n",
    "                y = ass[wizs[j]]\n",
    "                ass[wizs[i]] = y\n",
    "                ass[wizs[j]] = x\n",
    "\n",
    "                newScore = h(ass, constraints)\n",
    "                if newScore == 0:\n",
    "                    return ass\n",
    "                if newScore < best_score:\n",
    "                    best_ass = ass.copy()\n",
    "                    best_score = newScore\n",
    "                    \n",
    "                ass[wizs[i]] = x\n",
    "                ass[wizs[j]] = y\n",
    "        if best_score >= conflicts:\n",
    "            ass = getAssigment(numWiz, wizs)\n",
    "            conflicts = h(ass, constraints) \n",
    "        else:\n",
    "            conflicts = best_score\n",
    "            ass = best_ass.copy()"
   ]
  },
  {
   "cell_type": "code",
   "execution_count": 7,
   "metadata": {
    "collapsed": true
   },
   "outputs": [],
   "source": [
    "# Calculate probabily for given state\n",
    "def acceptance_prob(oldCost, newCost, T):\n",
    "    exponent = (oldCost - newCost)/(1.0*T)\n",
    "#   if exponent > 0 probability will be >1. just return 1 to prevent crazy big numbers.\n",
    "    if exponent > 0:\n",
    "        return 1\n",
    "    p = math.e**exponent\n",
    "    return p"
   ]
  },
  {
   "cell_type": "code",
   "execution_count": 8,
   "metadata": {
    "collapsed": true
   },
   "outputs": [],
   "source": [
    "# Simulated annealing\n",
    "def anneal(wizs, constraints, start, bestAss=None):\n",
    "    numWiz = len(wizs)\n",
    "    numCons = len(constraints)\n",
    "    ass = start.copy()\n",
    "    conflicts = h(ass, constraints) \n",
    "    \n",
    "    bestScore = numCons\n",
    "    if bestAss == None:\n",
    "        bestAss = [start.copy()]\n",
    "    \n",
    "#     meta parameters, T should be 1, 0.8<alpha<0.99, 100<iterations<1000 should work well\n",
    "    T = 1.0\n",
    "    T_min = 0.00001\n",
    "    alpha = 0.95\n",
    "    iterations = int(0.15*numWiz**2)\n",
    "    while conflicts > 0 and T > T_min:\n",
    "        for i in range(iterations):\n",
    "#         Choosing 2 random wizards\n",
    "            wizA, wizB = rand.sample(wizs, 2)\n",
    "            \n",
    "            x = ass[wizA]\n",
    "            y = ass[wizB]\n",
    "            ass[wizA] = y\n",
    "            ass[wizB] = x\n",
    "            newScore = h(ass, constraints)\n",
    "#             if solution found, return\n",
    "            if newScore == 0:\n",
    "                print(\"0 conflicts SHABANG\")\n",
    "                reinterpret(numWiz, ass)\n",
    "                string = './outputs/input' + str(numWiz) + '_0.out'\n",
    "                !python instance_validator.py $string $numWiz\n",
    "                exit()\n",
    "                return ass, None\n",
    "            elif newScore < bestScore:\n",
    "                bestScore = newScore\n",
    "                bestAss = [ass.copy()]\n",
    "                if newScore<3:\n",
    "                    print(newScore)\n",
    "#                 calculating probability\n",
    "            ap = acceptance_prob(conflicts, newScore, T)\n",
    "#             save change\n",
    "            if ap > rand.random(): \n",
    "                conflicts = newScore\n",
    "#             revert change\n",
    "            else: \n",
    "                ass[wizA] = x\n",
    "                ass[wizB] = y\n",
    "#         reduce tempreture\n",
    "        T *= alpha\n",
    "    return bestAss[0], bestAss"
   ]
  },
  {
   "cell_type": "code",
   "execution_count": 9,
   "metadata": {
    "collapsed": true
   },
   "outputs": [],
   "source": [
    "# Use constraint statistics to generate more likely starting points \n",
    "def potential_neighbors(input_size, constraints, plot, thrsh):\n",
    "    stats = np.zeros(input_size*input_size+1)\n",
    "    for i in constraints:\n",
    "        stats[i[0]*input_size+i[1]] += 1\n",
    "    if plot:\n",
    "        plt.plot(stats[stats!=0])\n",
    "        plt.title(\"appearances\")\n",
    "        plt.show()\n",
    "        print(\"greater then threshold neighbor appearance = \" + str(len(stats[stats>thrsh])))\n",
    "        print\n",
    "    highPairs = [i for i, x in enumerate(stats>thrsh) if x]\n",
    "    potential_neighbors = []\n",
    "    for i in highPairs:\n",
    "        potential_neighbors.append( (i//input_size,i%input_size) )\n",
    "    return potential_neighbors\n",
    "\n",
    "def goodStart(numWiz, wizs, constraints, plot=False, thrsh=1):\n",
    "    poteneighbors = potential_neighbors(numWiz, constraints, plot, thrsh)\n",
    "    rand.shuffle(poteneighbors)\n",
    "    andreysAss = []\n",
    "    for i in poteneighbors:\n",
    "        neighborA, neighborB = i[0], i[1]\n",
    "        if neighborA not in andreysAss:\n",
    "            andreysAss.append(neighborA)\n",
    "        if neighborB not in andreysAss:\n",
    "            andreysAss.append(neighborB)\n",
    "    residual = []\n",
    "    for i in range(numWiz):\n",
    "        if i not in andreysAss:\n",
    "            residual.append(i)\n",
    "    for i in range(numWiz-len(andreysAss)):\n",
    "        rand.shuffle(residual)\n",
    "        andreysAss.append(residual.pop())\n",
    "    return andreysAss"
   ]
  },
  {
   "cell_type": "code",
   "execution_count": 10,
   "metadata": {
    "scrolled": false
   },
   "outputs": [
    {
     "name": "stdout",
     "output_type": "stream",
     "text": [
      "number of wizards: 340\n",
      "initial number of conflicts: 1180\n"
     ]
    },
    {
     "data": {
      "image/png": "[encoded data removed]",
      "text/plain": [
       "<matplotlib.figure.Figure at 0x7fb966b75a20>"
      ]
     },
     "metadata": {},
     "output_type": "display_data"
    },
    {
     "name": "stdout",
     "output_type": "stream",
     "text": [
      "greater then threshold neighbor appearance = 92\n",
      "CPU times: user 316 ms, sys: 216 ms, total: 532 ms\n",
      "Wall time: 333 ms\n"
     ]
    }
   ],
   "source": [
    "%%time \n",
    "numWiz, numCons, wizs, constraints = readInput('Staff_Inputs/staff_340.in')\n",
    "start = wizs.copy()\n",
    "rand.shuffle(start)\n",
    "print(\"number of wizards: \" + str(numWiz))\n",
    "print('initial number of conflicts:', h(start, constraints))\n",
    "goodStart(numWiz, wizs, constraints,plot=True)\n",
    "# sol, bestAss = anneal(wizs, constraints, start)\n",
    "# print('solution conflicts', h(sol, constraints))\n",
    "# print('best score:', h(sol, constraints))"
   ]
  },
  {
   "cell_type": "code",
   "execution_count": 14,
   "metadata": {
    "scrolled": false
   },
   "outputs": [
    {
     "name": "stdout",
     "output_type": "stream",
     "text": [
      "2\n",
      "2\n",
      "2\n",
      "2\n",
      "2\n",
      "1\n",
      "1\n",
      "2\n",
      "1\n",
      "2\n",
      "1\n",
      "1\n",
      "0 conflicts SHABANG\n",
      "Success!\n",
      "2\n",
      "0 conflicts SHABANG\n",
      "Success!\n",
      "2\n",
      "2\n",
      "2\n",
      "2\n",
      "1\n"
     ]
    },
    {
     "name": "stderr",
     "output_type": "stream",
     "text": [
      "Process ForkPoolWorker-20:\n",
      "Traceback (most recent call last):\n",
      "Process ForkPoolWorker-15:\n",
      "Process ForkPoolWorker-16:\n",
      "Process ForkPoolWorker-1:\n",
      "Traceback (most recent call last):\n",
      "  File \"/home/eilam/anaconda3/lib/python3.6/multiprocessing/process.py\", line 249, in _bootstrap\n",
      "    self.run()\n"
     ]
    },
    {
     "name": "stdout",
     "output_type": "stream",
     "text": [
      "[221, 306, 72]\n"
     ]
    },
    {
     "name": "stderr",
     "output_type": "stream",
     "text": [
      "  File \"/home/eilam/anaconda3/lib/python3.6/multiprocessing/process.py\", line 93, in run\n",
      "    self._target(*self._args, **self._kwargs)\n",
      "  File \"/home/eilam/anaconda3/lib/python3.6/multiprocessing/process.py\", line 249, in _bootstrap\n",
      "    self.run()\n",
      "  File \"/home/eilam/anaconda3/lib/python3.6/multiprocessing/pool.py\", line 119, in worker\n",
      "    result = (True, func(*args, **kwds))\n",
      "  File \"/home/eilam/anaconda3/lib/python3.6/multiprocessing/process.py\", line 93, in run\n",
      "    self._target(*self._args, **self._kwargs)\n",
      "Process ForkPoolWorker-8:\n",
      "  File \"/home/eilam/anaconda3/lib/python3.6/multiprocessing/pool.py\", line 119, in worker\n",
      "    result = (True, func(*args, **kwds))\n",
      "  File \"/home/eilam/anaconda3/lib/python3.6/multiprocessing/pool.py\", line 44, in mapstar\n",
      "    return list(map(*args))\n",
      "Process ForkPoolWorker-2:\n",
      "Process ForkPoolWorker-9:\n",
      "Process ForkPoolWorker-11:\n",
      "  File \"<ipython-input-8-4ecb4205cca3>\", line 25, in anneal\n",
      "    newScore = h(ass, constraints)\n",
      "Traceback (most recent call last):\n",
      "  File \"<ipython-input-3-8a8e3637a6b5>\", line 4, in h\n",
      "    for constraint in constraints:\n",
      "Traceback (most recent call last):\n",
      "  File \"/home/eilam/anaconda3/lib/python3.6/multiprocessing/process.py\", line 249, in _bootstrap\n",
      "    self.run()\n",
      "Process ForkPoolWorker-5:\n",
      "Traceback (most recent call last):\n",
      "Process ForkPoolWorker-3:\n",
      "Traceback (most recent call last):\n",
      "  File \"/home/eilam/anaconda3/lib/python3.6/multiprocessing/process.py\", line 249, in _bootstrap\n",
      "    self.run()\n",
      "KeyboardInterrupt\n",
      "  File \"/home/eilam/anaconda3/lib/python3.6/multiprocessing/process.py\", line 249, in _bootstrap\n",
      "    self.run()\n"
     ]
    },
    {
     "name": "stdout",
     "output_type": "stream",
     "text": [
      "[139, 212, 187]\n",
      "[27, 298, 53]\n"
     ]
    },
    {
     "name": "stderr",
     "output_type": "stream",
     "text": [
      "Traceback (most recent call last):\n"
     ]
    },
    {
     "name": "stdout",
     "output_type": "stream",
     "text": [
      "[80, 160, 189]\n"
     ]
    },
    {
     "name": "stderr",
     "output_type": "stream",
     "text": [
      "  File \"/home/eilam/anaconda3/lib/python3.6/multiprocessing/process.py\", line 93, in run\n",
      "    self._target(*self._args, **self._kwargs)\n",
      "  File \"/home/eilam/anaconda3/lib/python3.6/multiprocessing/process.py\", line 249, in _bootstrap\n",
      "    self.run()\n",
      "  File \"/home/eilam/anaconda3/lib/python3.6/multiprocessing/process.py\", line 93, in run\n",
      "    self._target(*self._args, **self._kwargs)\n",
      "Process ForkPoolWorker-18:\n",
      "  File \"/home/eilam/anaconda3/lib/python3.6/multiprocessing/pool.py\", line 119, in worker\n",
      "    result = (True, func(*args, **kwds))\n"
     ]
    },
    {
     "name": "stdout",
     "output_type": "stream",
     "text": [
      "[154, 281, 66]\n"
     ]
    },
    {
     "name": "stderr",
     "output_type": "stream",
     "text": [
      "  File \"/home/eilam/anaconda3/lib/python3.6/multiprocessing/process.py\", line 93, in run\n",
      "    self._target(*self._args, **self._kwargs)\n",
      "Traceback (most recent call last):\n",
      "  File \"/home/eilam/anaconda3/lib/python3.6/multiprocessing/pool.py\", line 119, in worker\n",
      "    result = (True, func(*args, **kwds))\n",
      "Traceback (most recent call last):\n",
      "  File \"/home/eilam/anaconda3/lib/python3.6/multiprocessing/pool.py\", line 44, in mapstar\n",
      "    return list(map(*args))\n"
     ]
    },
    {
     "name": "stdout",
     "output_type": "stream",
     "text": [
      "340 [84, 66, 261, 112, 253, 90, 207, 97, 194, 300, 280, 179, 234, 274, 284, 93, 33, 80, 176, 225, 203, 259, 286, 331, 199, 296, 40, 59, 186, 235, 37, 167, 337, 57, 317, 145, 96, 268, 31, 142, 77, 264, 49, 185, 329, 249, 53, 309, 100, 91, 250, 256, 291, 292, 39, 13, 328, 289, 210, 228, 157, 177, 69, 213, 178, 164, 88, 245, 120, 116, 298, 252, 336, 174, 315, 151, 312, 218, 161, 1, 117, 232, 285, 28, 144, 324, 206, 239, 62, 149, 102, 308, 267, 55, 17, 184, 34, 168, 108, 7, 183, 323, 282, 223, 222, 106, 229, 154, 231, 45, 307, 110, 236, 173, 12, 48, 297, 327, 193, 22, 24, 299, 265, 122, 182, 216, 209, 288, 137, 318, 23, 109, 74, 325, 255, 201, 257, 95, 277, 180, 32, 227, 212, 198, 76, 87, 21, 333, 60, 302, 27, 92, 143, 195, 65, 305, 127, 158, 89, 67, 18, 254, 171, 278, 260, 188, 241, 25, 20, 16, 290, 41, 335, 99, 152, 147, 272, 304, 101, 104, 208, 8, 61, 81, 119, 170, 313, 15, 125, 3, 311, 247, 6, 135, 9, 205, 138, 43, 214, 146, 73, 124, 153, 301, 226, 273, 287, 42, 238, 166, 14, 155, 192, 129, 47, 339, 150, 5, 271, 86, 131, 172, 130, 224, 126, 163, 269, 140, 251, 266, 82, 54, 156, 52, 181, 72, 320, 115, 111, 275, 262, 103, 58, 160, 204, 338, 4, 202, 123, 128, 220, 330, 162, 242, 148, 263, 64, 334, 29, 322, 169, 2, 165, 191, 44, 26, 310, 70, 85, 196, 190, 114, 187, 306, 94, 314, 46, 189, 230, 139, 243, 10, 175, 258, 63, 136, 270, 118, 246, 19, 107, 30, 35, 283, 98, 237, 217, 133, 281, 51, 316, 68, 75, 326, 159, 295, 56, 134, 78, 121, 132, 38, 294, 233, 113, 215, 141, 36, 71, 332, 248, 219, 279, 240, 321, 244, 0, 83, 11, 197, 319, 276, 50, 79, 221, 303, 105, 200, 211, 293]\n"
     ]
    },
    {
     "name": "stderr",
     "output_type": "stream",
     "text": [
      "Traceback (most recent call last):\n",
      "  File \"/home/eilam/anaconda3/lib/python3.6/multiprocessing/pool.py\", line 44, in mapstar\n",
      "    return list(map(*args))\n",
      "  File \"/home/eilam/anaconda3/lib/python3.6/multiprocessing/pool.py\", line 119, in worker\n",
      "    result = (True, func(*args, **kwds))\n",
      "  File \"<ipython-input-8-4ecb4205cca3>\", line 25, in anneal\n",
      "    newScore = h(ass, constraints)\n",
      "  File \"<ipython-input-8-4ecb4205cca3>\", line 25, in anneal\n",
      "    newScore = h(ass, constraints)\n",
      "  File \"/home/eilam/anaconda3/lib/python3.6/multiprocessing/process.py\", line 249, in _bootstrap\n",
      "    self.run()\n",
      "  File \"/home/eilam/anaconda3/lib/python3.6/multiprocessing/process.py\", line 249, in _bootstrap\n",
      "    self.run()\n",
      "  File \"<ipython-input-3-8a8e3637a6b5>\", line 10, in h\n",
      "    a = t0 if (t0 < t1) else t1\n",
      "  File \"<ipython-input-3-8a8e3637a6b5>\", line 12, in h\n",
      "    c = assigment[constraint[2]]\n",
      "  File \"/home/eilam/anaconda3/lib/python3.6/multiprocessing/process.py\", line 93, in run\n",
      "    self._target(*self._args, **self._kwargs)\n",
      "KeyboardInterrupt\n",
      "Traceback (most recent call last):\n",
      "  File \"/home/eilam/anaconda3/lib/python3.6/multiprocessing/process.py\", line 249, in _bootstrap\n",
      "    self.run()\n",
      "  File \"/home/eilam/anaconda3/lib/python3.6/multiprocessing/pool.py\", line 44, in mapstar\n",
      "    return list(map(*args))\n",
      "  File \"/home/eilam/anaconda3/lib/python3.6/multiprocessing/pool.py\", line 119, in worker\n",
      "    result = (True, func(*args, **kwds))\n",
      "Process ForkPoolWorker-7:\n"
     ]
    },
    {
     "name": "stdout",
     "output_type": "stream",
     "text": [
      "340 [55, 63, 255, 105, 261, 62, 201, 86, 155, 273, 250, 176, 204, 270, 264, 89, 25, 5, 196, 185, 178, 260, 274, 330, 218, 307, 45, 48, 187, 253, 59, 174, 338, 3, 326, 160, 95, 285, 88, 129, 71, 233, 8, 132, 315, 240, 74, 296, 93, 79, 291, 263, 266, 283, 33, 2, 294, 293, 227, 209, 110, 194, 76, 206, 177, 170, 70, 229, 238, 107, 311, 269, 331, 150, 254, 138, 308, 235, 157, 10, 116, 230, 280, 32, 136, 322, 208, 225, 46, 131, 92, 312, 239, 49, 21, 200, 38, 169, 102, 35, 188, 314, 277, 199, 236, 104, 226, 128, 198, 64, 256, 122, 219, 171, 14, 52, 282, 335, 191, 22, 23, 286, 243, 100, 173, 205, 210, 292, 161, 323, 12, 113, 80, 325, 272, 181, 242, 123, 301, 189, 41, 232, 215, 190, 313, 73, 18, 306, 290, 302, 26, 84, 114, 140, 51, 305, 121, 168, 56, 65, 47, 237, 154, 265, 241, 207, 257, 16, 20, 15, 276, 24, 334, 101, 145, 126, 297, 287, 103, 141, 214, 30, 67, 54, 139, 135, 337, 17, 152, 13, 299, 222, 19, 142, 11, 186, 120, 50, 221, 81, 78, 112, 162, 309, 211, 252, 262, 36, 234, 151, 4, 134, 146, 130, 40, 332, 167, 7, 248, 87, 109, 165, 147, 244, 127, 166, 267, 144, 249, 339, 9, 42, 156, 298, 183, 75, 278, 106, 98, 72, 251, 90, 43, 163, 158, 327, 6, 197, 124, 118, 216, 328, 153, 212, 159, 268, 66, 320, 333, 317, 175, 0, 184, 228, 31, 27, 220, 69, 91, 203, 202, 115, 195, 324, 82, 289, 60, 182, 223, 111, 259, 53, 172, 275, 85, 149, 288, 117, 77, 28, 108, 34, 37, 336, 99, 247, 180, 143, 258, 61, 316, 44, 57, 303, 164, 281, 304, 133, 68, 125, 119, 295, 271, 217, 94, 224, 148, 58, 96, 329, 231, 213, 319, 246, 279, 245, 1, 29, 284, 179, 321, 318, 39, 83, 193, 310, 97, 137, 192, 300]\n"
     ]
    },
    {
     "name": "stderr",
     "output_type": "stream",
     "text": [
      "  File \"/home/eilam/anaconda3/lib/python3.6/multiprocessing/process.py\", line 249, in _bootstrap\n",
      "    self.run()\n",
      "  File \"/home/eilam/anaconda3/lib/python3.6/multiprocessing/process.py\", line 93, in run\n",
      "    self._target(*self._args, **self._kwargs)\n"
     ]
    },
    {
     "name": "stdout",
     "output_type": "stream",
     "text": [
      "[41, 163, 219]\n",
      "340 [97, 64, 262, 122, 257, 94, 233, 63, 175, 288, 274, 177, 229, 315, 267, 79, 27, 85, 140, 206, 200, 235, 293, 324, 199, 284, 51, 57, 186, 234, 44, 176, 339, 0, 323, 160, 165, 259, 31, 156, 56, 256, 29, 155, 309, 242, 80, 312, 86, 84, 292, 260, 298, 296, 28, 16, 328, 294, 223, 225, 116, 95, 81, 203, 181, 148, 119, 248, 108, 124, 297, 253, 337, 189, 273, 112, 326, 241, 168, 9, 118, 238, 290, 26, 150, 322, 191, 220, 99, 132, 104, 310, 266, 41, 11, 169, 36, 190, 113, 21, 195, 308, 289, 211, 224, 90, 214, 135, 222, 59, 304, 133, 245, 154, 8, 62, 295, 334, 196, 7, 30, 299, 247, 121, 167, 216, 230, 282, 184, 311, 10, 114, 91, 321, 252, 185, 258, 106, 306, 218, 38, 232, 217, 209, 53, 82, 23, 318, 305, 314, 66, 103, 125, 173, 55, 303, 137, 166, 48, 68, 35, 231, 162, 283, 251, 180, 254, 25, 14, 13, 281, 34, 333, 115, 134, 131, 268, 287, 69, 102, 198, 19, 71, 72, 157, 136, 330, 17, 158, 15, 331, 278, 1, 147, 2, 179, 143, 50, 205, 139, 87, 75, 151, 286, 213, 271, 280, 39, 237, 174, 20, 146, 161, 142, 49, 336, 171, 6, 265, 107, 92, 210, 126, 244, 130, 170, 269, 182, 246, 270, 101, 52, 164, 74, 183, 83, 302, 111, 105, 61, 255, 110, 46, 153, 193, 335, 5, 215, 117, 127, 228, 329, 145, 219, 194, 249, 60, 325, 12, 313, 201, 4, 144, 236, 37, 24, 207, 76, 73, 197, 163, 109, 221, 319, 67, 316, 40, 187, 226, 120, 250, 58, 172, 261, 65, 159, 272, 123, 263, 18, 77, 33, 22, 285, 98, 227, 188, 128, 277, 42, 327, 70, 54, 317, 138, 300, 45, 141, 78, 129, 178, 43, 279, 240, 100, 208, 152, 47, 96, 338, 243, 212, 275, 239, 291, 264, 3, 88, 301, 204, 332, 276, 32, 93, 192, 320, 89, 149, 202, 307]\n"
     ]
    },
    {
     "name": "stderr",
     "output_type": "stream",
     "text": [
      "  File \"/home/eilam/anaconda3/lib/python3.6/multiprocessing/pool.py\", line 44, in mapstar\n",
      "    return list(map(*args))\n",
      "  File \"/home/eilam/anaconda3/lib/python3.6/multiprocessing/pool.py\", line 119, in worker\n",
      "    result = (True, func(*args, **kwds))\n"
     ]
    },
    {
     "name": "stdout",
     "output_type": "stream",
     "text": [
      "340 [67, 60, 255, 114, 251, 81, 238, 55, 174, 300, 281, 170, 240, 290, 282, 90, 22, 75, 202, 186, 171, 231, 301, 327, 162, 306, 49, 45, 190, 245, 43, 176, 337, 70, 320, 153, 101, 269, 13, 203, 97, 249, 27, 147, 325, 246, 72, 303, 95, 76, 302, 253, 289, 292, 20, 8, 315, 287, 183, 224, 126, 167, 68, 212, 178, 148, 86, 233, 241, 120, 279, 239, 331, 156, 275, 141, 318, 229, 177, 9, 117, 187, 291, 24, 160, 326, 196, 237, 63, 145, 87, 307, 258, 35, 38, 132, 33, 172, 110, 42, 199, 312, 286, 242, 213, 136, 225, 142, 235, 53, 309, 96, 200, 158, 23, 54, 317, 322, 210, 26, 29, 299, 284, 128, 181, 205, 119, 276, 139, 321, 12, 91, 88, 316, 254, 204, 261, 89, 273, 217, 39, 227, 218, 194, 64, 99, 25, 314, 271, 313, 56, 69, 154, 152, 77, 310, 123, 155, 62, 85, 28, 259, 165, 277, 278, 189, 247, 16, 10, 5, 268, 19, 335, 105, 149, 133, 272, 283, 104, 106, 207, 21, 66, 65, 116, 184, 334, 1, 150, 11, 311, 236, 15, 138, 6, 179, 130, 40, 263, 159, 73, 108, 161, 295, 215, 274, 296, 32, 244, 185, 14, 157, 151, 122, 37, 332, 168, 7, 260, 92, 112, 146, 175, 226, 118, 197, 264, 113, 234, 267, 80, 41, 166, 58, 182, 83, 330, 127, 111, 57, 257, 84, 51, 164, 211, 329, 3, 195, 135, 129, 219, 333, 143, 222, 198, 262, 50, 339, 0, 294, 192, 4, 180, 223, 36, 17, 208, 82, 78, 201, 216, 103, 230, 324, 93, 305, 34, 193, 220, 134, 248, 46, 169, 256, 79, 137, 266, 121, 250, 18, 107, 31, 30, 280, 98, 252, 206, 140, 285, 61, 328, 59, 74, 308, 163, 297, 52, 131, 71, 125, 144, 48, 298, 228, 124, 191, 115, 47, 100, 338, 232, 221, 288, 243, 323, 265, 2, 94, 304, 173, 336, 270, 44, 109, 188, 319, 102, 214, 209, 293]\n"
     ]
    },
    {
     "name": "stderr",
     "output_type": "stream",
     "text": [
      "  File \"/home/eilam/anaconda3/lib/python3.6/multiprocessing/process.py\", line 93, in run\n",
      "    self._target(*self._args, **self._kwargs)\n",
      "  File \"/home/eilam/anaconda3/lib/python3.6/multiprocessing/pool.py\", line 119, in worker\n",
      "    result = (True, func(*args, **kwds))\n",
      "  File \"/home/eilam/anaconda3/lib/python3.6/multiprocessing/pool.py\", line 44, in mapstar\n",
      "    return list(map(*args))\n",
      "  File \"<ipython-input-8-4ecb4205cca3>\", line 25, in anneal\n",
      "    newScore = h(ass, constraints)\n",
      "  File \"<ipython-input-3-8a8e3637a6b5>\", line 11, in h\n",
      "    b = t0 + t1 - a\n",
      "KeyboardInterrupt\n",
      "  File \"/home/eilam/anaconda3/lib/python3.6/multiprocessing/process.py\", line 93, in run\n",
      "    self._target(*self._args, **self._kwargs)\n",
      "  File \"<ipython-input-8-4ecb4205cca3>\", line 25, in anneal\n",
      "    newScore = h(ass, constraints)\n"
     ]
    },
    {
     "name": "stdout",
     "output_type": "stream",
     "text": [
      "340 [67, 71, 251, 125, 253, 95, 224, 284, 167, 289, 280, 182, 252, 75, 281, 87, 25, 72, 161, 205, 198, 269, 287, 325, 181, 311, 38, 63, 196, 240, 57, 177, 334, 52, 308, 159, 101, 267, 28, 172, 77, 262, 26, 149, 326, 248, 50, 307, 91, 84, 290, 268, 288, 294, 30, 11, 336, 302, 188, 222, 103, 194, 88, 193, 179, 152, 81, 235, 86, 80, 295, 249, 337, 150, 283, 119, 317, 197, 175, 0, 112, 243, 296, 29, 140, 324, 211, 239, 109, 145, 96, 316, 278, 35, 24, 173, 36, 174, 120, 42, 190, 310, 292, 212, 221, 111, 236, 142, 234, 53, 270, 133, 231, 164, 7, 40, 315, 323, 207, 13, 27, 299, 227, 113, 168, 204, 216, 276, 128, 322, 18, 122, 108, 313, 266, 200, 247, 79, 297, 210, 32, 219, 220, 201, 46, 73, 17, 330, 271, 303, 58, 100, 154, 158, 61, 304, 148, 169, 41, 68, 15, 238, 160, 277, 263, 202, 264, 20, 23, 5, 300, 34, 339, 102, 146, 123, 255, 286, 104, 155, 230, 10, 44, 51, 136, 147, 327, 8, 151, 2, 320, 223, 22, 139, 6, 213, 138, 49, 254, 137, 82, 107, 184, 319, 225, 261, 291, 47, 229, 206, 12, 141, 132, 131, 55, 328, 171, 4, 275, 83, 129, 162, 165, 228, 106, 195, 259, 143, 242, 272, 90, 56, 163, 66, 183, 85, 314, 117, 115, 65, 246, 105, 54, 166, 208, 338, 1, 203, 116, 126, 217, 329, 144, 258, 170, 265, 62, 335, 16, 312, 199, 3, 178, 241, 37, 21, 218, 76, 89, 215, 189, 98, 185, 333, 70, 318, 60, 187, 232, 124, 245, 33, 180, 256, 69, 157, 260, 130, 237, 14, 118, 31, 19, 279, 110, 244, 176, 114, 282, 45, 306, 78, 64, 321, 153, 293, 59, 135, 74, 121, 127, 39, 285, 233, 99, 191, 134, 48, 97, 332, 250, 226, 273, 209, 305, 257, 9, 92, 298, 186, 331, 274, 43, 93, 214, 309, 94, 156, 192, 301]\n"
     ]
    },
    {
     "name": "stderr",
     "output_type": "stream",
     "text": [
      "  File \"/home/eilam/anaconda3/lib/python3.6/multiprocessing/pool.py\", line 44, in mapstar\n",
      "    return list(map(*args))\n",
      "  File \"<ipython-input-8-4ecb4205cca3>\", line 25, in anneal\n",
      "    newScore = h(ass, constraints)\n",
      "  File \"<ipython-input-3-8a8e3637a6b5>\", line 13, in h\n",
      "    if a<c and c<b:\n",
      "KeyboardInterrupt\n",
      "  File \"/home/eilam/anaconda3/lib/python3.6/multiprocessing/process.py\", line 249, in _bootstrap\n",
      "    self.run()\n",
      "  File \"/home/eilam/anaconda3/lib/python3.6/multiprocessing/process.py\", line 93, in run\n",
      "    self._target(*self._args, **self._kwargs)\n",
      "  File \"<ipython-input-3-8a8e3637a6b5>\", line 13, in h\n",
      "    if a<c and c<b:\n",
      "KeyboardInterrupt\n",
      "  File \"<ipython-input-8-4ecb4205cca3>\", line 25, in anneal\n",
      "    newScore = h(ass, constraints)\n",
      "  File \"/home/eilam/anaconda3/lib/python3.6/multiprocessing/pool.py\", line 119, in worker\n",
      "    result = (True, func(*args, **kwds))\n",
      "Traceback (most recent call last):\n",
      "  File \"/home/eilam/anaconda3/lib/python3.6/multiprocessing/pool.py\", line 119, in worker\n",
      "    result = (True, func(*args, **kwds))\n",
      "  File \"<ipython-input-3-8a8e3637a6b5>\", line 11, in h\n",
      "    b = t0 + t1 - a\n",
      "KeyboardInterrupt\n"
     ]
    },
    {
     "name": "stdout",
     "output_type": "stream",
     "text": [
      "340 [83, 88, 264, 107, 252, 68, 247, 70, 169, 288, 278, 201, 248, 254, 273, 86, 24, 64, 153, 204, 192, 242, 320, 326, 126, 286, 40, 43, 188, 246, 55, 178, 334, 53, 294, 165, 105, 260, 30, 163, 63, 270, 23, 154, 322, 245, 50, 336, 97, 94, 309, 269, 291, 289, 22, 6, 331, 302, 223, 239, 119, 162, 69, 211, 179, 143, 127, 240, 102, 104, 317, 262, 330, 167, 306, 132, 332, 195, 177, 1, 113, 234, 293, 34, 160, 325, 206, 235, 121, 140, 96, 318, 256, 52, 35, 161, 37, 180, 103, 15, 187, 305, 280, 199, 226, 110, 232, 128, 220, 56, 300, 131, 244, 172, 19, 67, 304, 335, 197, 7, 21, 290, 230, 120, 185, 209, 222, 282, 139, 327, 8, 116, 93, 307, 258, 189, 261, 80, 292, 219, 41, 212, 217, 186, 62, 60, 20, 316, 266, 315, 46, 100, 130, 194, 57, 299, 142, 176, 82, 73, 29, 257, 166, 298, 231, 200, 250, 28, 13, 2, 274, 36, 337, 111, 159, 87, 265, 279, 78, 101, 224, 17, 49, 72, 144, 152, 319, 9, 155, 16, 328, 287, 14, 156, 18, 193, 137, 39, 213, 150, 90, 91, 171, 313, 229, 277, 285, 108, 228, 136, 12, 149, 181, 138, 44, 333, 168, 5, 276, 85, 123, 157, 141, 241, 79, 174, 263, 134, 251, 272, 89, 45, 175, 61, 183, 74, 308, 115, 112, 84, 243, 106, 54, 158, 203, 339, 11, 196, 129, 122, 218, 329, 146, 236, 182, 238, 66, 338, 3, 303, 184, 4, 133, 221, 27, 25, 210, 65, 95, 190, 215, 145, 191, 324, 59, 314, 58, 207, 237, 124, 267, 48, 173, 259, 76, 151, 268, 118, 249, 32, 92, 31, 10, 301, 98, 233, 208, 117, 275, 47, 310, 71, 75, 312, 164, 283, 51, 135, 77, 125, 148, 42, 284, 225, 38, 170, 147, 33, 99, 323, 255, 227, 281, 214, 296, 253, 0, 81, 295, 202, 321, 271, 26, 114, 216, 297, 109, 198, 205, 311]\n"
     ]
    },
    {
     "name": "stderr",
     "output_type": "stream",
     "text": [
      "  File \"/home/eilam/anaconda3/lib/python3.6/multiprocessing/process.py\", line 249, in _bootstrap\n",
      "    self.run()\n",
      "KeyboardInterrupt\n",
      "  File \"/home/eilam/anaconda3/lib/python3.6/multiprocessing/pool.py\", line 44, in mapstar\n",
      "    return list(map(*args))\n",
      "  File \"<ipython-input-8-4ecb4205cca3>\", line 25, in anneal\n",
      "    newScore = h(ass, constraints)\n",
      "  File \"<ipython-input-3-8a8e3637a6b5>\", line 11, in h\n",
      "    b = t0 + t1 - a\n",
      "KeyboardInterrupt\n",
      "  File \"/home/eilam/anaconda3/lib/python3.6/multiprocessing/process.py\", line 93, in run\n",
      "    self._target(*self._args, **self._kwargs)\n",
      "  File \"/home/eilam/anaconda3/lib/python3.6/multiprocessing/pool.py\", line 44, in mapstar\n",
      "    return list(map(*args))\n",
      "  File \"/home/eilam/anaconda3/lib/python3.6/multiprocessing/pool.py\", line 44, in mapstar\n",
      "    return list(map(*args))\n",
      "  File \"/home/eilam/anaconda3/lib/python3.6/multiprocessing/process.py\", line 93, in run\n",
      "    self._target(*self._args, **self._kwargs)\n",
      "  File \"<ipython-input-8-4ecb4205cca3>\", line 25, in anneal\n",
      "    newScore = h(ass, constraints)\n",
      "  File \"/home/eilam/anaconda3/lib/python3.6/multiprocessing/pool.py\", line 119, in worker\n",
      "    result = (True, func(*args, **kwds))\n",
      "  File \"/home/eilam/anaconda3/lib/python3.6/multiprocessing/pool.py\", line 119, in worker\n",
      "    result = (True, func(*args, **kwds))\n",
      "  File \"<ipython-input-3-8a8e3637a6b5>\", line 11, in h\n",
      "    b = t0 + t1 - a\n",
      "Process ForkPoolWorker-12:\n",
      "  File \"/home/eilam/anaconda3/lib/python3.6/multiprocessing/pool.py\", line 44, in mapstar\n",
      "    return list(map(*args))\n",
      "  File \"/home/eilam/anaconda3/lib/python3.6/multiprocessing/pool.py\", line 44, in mapstar\n",
      "    return list(map(*args))\n",
      "Process ForkPoolWorker-10:\n",
      "Traceback (most recent call last):\n",
      "KeyboardInterrupt\n",
      "  File \"<ipython-input-8-4ecb4205cca3>\", line 25, in anneal\n",
      "    newScore = h(ass, constraints)\n",
      "  File \"<ipython-input-8-4ecb4205cca3>\", line 25, in anneal\n",
      "    newScore = h(ass, constraints)\n",
      "  File \"/home/eilam/anaconda3/lib/python3.6/multiprocessing/process.py\", line 249, in _bootstrap\n",
      "    self.run()\n",
      "Traceback (most recent call last):\n",
      "  File \"<ipython-input-3-8a8e3637a6b5>\", line 12, in h\n",
      "    c = assigment[constraint[2]]\n",
      "  File \"<ipython-input-8-4ecb4205cca3>\", line 25, in anneal\n",
      "    newScore = h(ass, constraints)\n",
      "  File \"/home/eilam/anaconda3/lib/python3.6/multiprocessing/process.py\", line 93, in run\n",
      "    self._target(*self._args, **self._kwargs)\n",
      "  File \"/home/eilam/anaconda3/lib/python3.6/multiprocessing/pool.py\", line 119, in worker\n",
      "    result = (True, func(*args, **kwds))\n",
      "  File \"/home/eilam/anaconda3/lib/python3.6/multiprocessing/process.py\", line 249, in _bootstrap\n",
      "    self.run()\n",
      "  File \"<ipython-input-3-8a8e3637a6b5>\", line 12, in h\n",
      "    c = assigment[constraint[2]]\n",
      "  File \"<ipython-input-3-8a8e3637a6b5>\", line 12, in h\n",
      "    c = assigment[constraint[2]]\n",
      "KeyboardInterrupt\n",
      "  File \"/home/eilam/anaconda3/lib/python3.6/multiprocessing/process.py\", line 93, in run\n",
      "    self._target(*self._args, **self._kwargs)\n",
      "KeyboardInterrupt\n",
      "KeyboardInterrupt\n",
      "  File \"/home/eilam/anaconda3/lib/python3.6/multiprocessing/pool.py\", line 119, in worker\n",
      "    result = (True, func(*args, **kwds))\n",
      "  File \"/home/eilam/anaconda3/lib/python3.6/multiprocessing/pool.py\", line 44, in mapstar\n",
      "    return list(map(*args))\n",
      "  File \"<ipython-input-8-4ecb4205cca3>\", line 25, in anneal\n",
      "    newScore = h(ass, constraints)\n",
      "  File \"/home/eilam/anaconda3/lib/python3.6/multiprocessing/pool.py\", line 44, in mapstar\n",
      "    return list(map(*args))\n",
      "  File \"<ipython-input-8-4ecb4205cca3>\", line 25, in anneal\n",
      "    newScore = h(ass, constraints)\n",
      "  File \"<ipython-input-3-8a8e3637a6b5>\", line 13, in h\n",
      "    if a<c and c<b:\n",
      "  File \"<ipython-input-3-8a8e3637a6b5>\", line 12, in h\n",
      "    c = assigment[constraint[2]]\n",
      "KeyboardInterrupt\n",
      "KeyboardInterrupt\n"
     ]
    },
    {
     "ename": "KeyboardInterrupt",
     "evalue": "",
     "output_type": "error",
     "traceback": [
      "\u001b[0;31m---------------------------------------------------------------------------\u001b[0m",
      "\u001b[0;31mKeyboardInterrupt\u001b[0m                         Traceback (most recent call last)",
      "\u001b[0;32m<timed exec>\u001b[0m in \u001b[0;36m<module>\u001b[0;34m()\u001b[0m\n",
      "\u001b[0;32m~/anaconda3/lib/python3.6/multiprocessing/pool.py\u001b[0m in \u001b[0;36mmap\u001b[0;34m(self, func, iterable, chunksize)\u001b[0m\n\u001b[1;32m    264\u001b[0m         \u001b[0;32min\u001b[0m \u001b[0ma\u001b[0m \u001b[0mlist\u001b[0m \u001b[0mthat\u001b[0m \u001b[0;32mis\u001b[0m \u001b[0mreturned\u001b[0m\u001b[0;34m.\u001b[0m\u001b[0;34m\u001b[0m\u001b[0m\n\u001b[1;32m    265\u001b[0m         '''\n\u001b[0;32m--> 266\u001b[0;31m         \u001b[0;32mreturn\u001b[0m \u001b[0mself\u001b[0m\u001b[0;34m.\u001b[0m\u001b[0m_map_async\u001b[0m\u001b[0;34m(\u001b[0m\u001b[0mfunc\u001b[0m\u001b[0;34m,\u001b[0m \u001b[0miterable\u001b[0m\u001b[0;34m,\u001b[0m \u001b[0mmapstar\u001b[0m\u001b[0;34m,\u001b[0m \u001b[0mchunksize\u001b[0m\u001b[0;34m)\u001b[0m\u001b[0;34m.\u001b[0m\u001b[0mget\u001b[0m\u001b[0;34m(\u001b[0m\u001b[0;34m)\u001b[0m\u001b[0;34m\u001b[0m\u001b[0m\n\u001b[0m\u001b[1;32m    267\u001b[0m \u001b[0;34m\u001b[0m\u001b[0m\n\u001b[1;32m    268\u001b[0m     \u001b[0;32mdef\u001b[0m \u001b[0mstarmap\u001b[0m\u001b[0;34m(\u001b[0m\u001b[0mself\u001b[0m\u001b[0;34m,\u001b[0m \u001b[0mfunc\u001b[0m\u001b[0;34m,\u001b[0m \u001b[0miterable\u001b[0m\u001b[0;34m,\u001b[0m \u001b[0mchunksize\u001b[0m\u001b[0;34m=\u001b[0m\u001b[0;32mNone\u001b[0m\u001b[0;34m)\u001b[0m\u001b[0;34m:\u001b[0m\u001b[0;34m\u001b[0m\u001b[0m\n",
      "\u001b[0;32m~/anaconda3/lib/python3.6/multiprocessing/pool.py\u001b[0m in \u001b[0;36mget\u001b[0;34m(self, timeout)\u001b[0m\n\u001b[1;32m    636\u001b[0m \u001b[0;34m\u001b[0m\u001b[0m\n\u001b[1;32m    637\u001b[0m     \u001b[0;32mdef\u001b[0m \u001b[0mget\u001b[0m\u001b[0;34m(\u001b[0m\u001b[0mself\u001b[0m\u001b[0;34m,\u001b[0m \u001b[0mtimeout\u001b[0m\u001b[0;34m=\u001b[0m\u001b[0;32mNone\u001b[0m\u001b[0;34m)\u001b[0m\u001b[0;34m:\u001b[0m\u001b[0;34m\u001b[0m\u001b[0m\n\u001b[0;32m--> 638\u001b[0;31m         \u001b[0mself\u001b[0m\u001b[0;34m.\u001b[0m\u001b[0mwait\u001b[0m\u001b[0;34m(\u001b[0m\u001b[0mtimeout\u001b[0m\u001b[0;34m)\u001b[0m\u001b[0;34m\u001b[0m\u001b[0m\n\u001b[0m\u001b[1;32m    639\u001b[0m         \u001b[0;32mif\u001b[0m \u001b[0;32mnot\u001b[0m \u001b[0mself\u001b[0m\u001b[0;34m.\u001b[0m\u001b[0mready\u001b[0m\u001b[0;34m(\u001b[0m\u001b[0;34m)\u001b[0m\u001b[0;34m:\u001b[0m\u001b[0;34m\u001b[0m\u001b[0m\n\u001b[1;32m    640\u001b[0m             \u001b[0;32mraise\u001b[0m \u001b[0mTimeoutError\u001b[0m\u001b[0;34m\u001b[0m\u001b[0m\n",
      "\u001b[0;32m~/anaconda3/lib/python3.6/multiprocessing/pool.py\u001b[0m in \u001b[0;36mwait\u001b[0;34m(self, timeout)\u001b[0m\n\u001b[1;32m    633\u001b[0m \u001b[0;34m\u001b[0m\u001b[0m\n\u001b[1;32m    634\u001b[0m     \u001b[0;32mdef\u001b[0m \u001b[0mwait\u001b[0m\u001b[0;34m(\u001b[0m\u001b[0mself\u001b[0m\u001b[0;34m,\u001b[0m \u001b[0mtimeout\u001b[0m\u001b[0;34m=\u001b[0m\u001b[0;32mNone\u001b[0m\u001b[0;34m)\u001b[0m\u001b[0;34m:\u001b[0m\u001b[0;34m\u001b[0m\u001b[0m\n\u001b[0;32m--> 635\u001b[0;31m         \u001b[0mself\u001b[0m\u001b[0;34m.\u001b[0m\u001b[0m_event\u001b[0m\u001b[0;34m.\u001b[0m\u001b[0mwait\u001b[0m\u001b[0;34m(\u001b[0m\u001b[0mtimeout\u001b[0m\u001b[0;34m)\u001b[0m\u001b[0;34m\u001b[0m\u001b[0m\n\u001b[0m\u001b[1;32m    636\u001b[0m \u001b[0;34m\u001b[0m\u001b[0m\n\u001b[1;32m    637\u001b[0m     \u001b[0;32mdef\u001b[0m \u001b[0mget\u001b[0m\u001b[0;34m(\u001b[0m\u001b[0mself\u001b[0m\u001b[0;34m,\u001b[0m \u001b[0mtimeout\u001b[0m\u001b[0;34m=\u001b[0m\u001b[0;32mNone\u001b[0m\u001b[0;34m)\u001b[0m\u001b[0;34m:\u001b[0m\u001b[0;34m\u001b[0m\u001b[0m\n",
      "\u001b[0;32m~/anaconda3/lib/python3.6/threading.py\u001b[0m in \u001b[0;36mwait\u001b[0;34m(self, timeout)\u001b[0m\n\u001b[1;32m    549\u001b[0m             \u001b[0msignaled\u001b[0m \u001b[0;34m=\u001b[0m \u001b[0mself\u001b[0m\u001b[0;34m.\u001b[0m\u001b[0m_flag\u001b[0m\u001b[0;34m\u001b[0m\u001b[0m\n\u001b[1;32m    550\u001b[0m             \u001b[0;32mif\u001b[0m \u001b[0;32mnot\u001b[0m \u001b[0msignaled\u001b[0m\u001b[0;34m:\u001b[0m\u001b[0;34m\u001b[0m\u001b[0m\n\u001b[0;32m--> 551\u001b[0;31m                 \u001b[0msignaled\u001b[0m \u001b[0;34m=\u001b[0m \u001b[0mself\u001b[0m\u001b[0;34m.\u001b[0m\u001b[0m_cond\u001b[0m\u001b[0;34m.\u001b[0m\u001b[0mwait\u001b[0m\u001b[0;34m(\u001b[0m\u001b[0mtimeout\u001b[0m\u001b[0;34m)\u001b[0m\u001b[0;34m\u001b[0m\u001b[0m\n\u001b[0m\u001b[1;32m    552\u001b[0m             \u001b[0;32mreturn\u001b[0m \u001b[0msignaled\u001b[0m\u001b[0;34m\u001b[0m\u001b[0m\n\u001b[1;32m    553\u001b[0m \u001b[0;34m\u001b[0m\u001b[0m\n",
      "\u001b[0;32m~/anaconda3/lib/python3.6/threading.py\u001b[0m in \u001b[0;36mwait\u001b[0;34m(self, timeout)\u001b[0m\n\u001b[1;32m    293\u001b[0m         \u001b[0;32mtry\u001b[0m\u001b[0;34m:\u001b[0m    \u001b[0;31m# restore state no matter what (e.g., KeyboardInterrupt)\u001b[0m\u001b[0;34m\u001b[0m\u001b[0m\n\u001b[1;32m    294\u001b[0m             \u001b[0;32mif\u001b[0m \u001b[0mtimeout\u001b[0m \u001b[0;32mis\u001b[0m \u001b[0;32mNone\u001b[0m\u001b[0;34m:\u001b[0m\u001b[0;34m\u001b[0m\u001b[0m\n\u001b[0;32m--> 295\u001b[0;31m                 \u001b[0mwaiter\u001b[0m\u001b[0;34m.\u001b[0m\u001b[0macquire\u001b[0m\u001b[0;34m(\u001b[0m\u001b[0;34m)\u001b[0m\u001b[0;34m\u001b[0m\u001b[0m\n\u001b[0m\u001b[1;32m    296\u001b[0m                 \u001b[0mgotit\u001b[0m \u001b[0;34m=\u001b[0m \u001b[0;32mTrue\u001b[0m\u001b[0;34m\u001b[0m\u001b[0m\n\u001b[1;32m    297\u001b[0m             \u001b[0;32melse\u001b[0m\u001b[0;34m:\u001b[0m\u001b[0;34m\u001b[0m\u001b[0m\n",
      "\u001b[0;31mKeyboardInterrupt\u001b[0m: "
     ]
    },
    {
     "name": "stdout",
     "output_type": "stream",
     "text": [
      "1\n",
      "0 conflicts SHABANG\n",
      "Success!\n"
     ]
    }
   ],
   "source": [
    "%%time\n",
    "cores = 4\n",
    "partial_aneal = partial(anneal, wizs, constraints)\n",
    "p = Pool(cores)\n",
    "starts = [goodStart(numWiz, wizs, constraints) for _ in range(20)]\n",
    "results = p.map(partial_aneal, starts)"
   ]
  }
 ],
 "metadata": {
  "kernelspec": {
   "display_name": "Python 3",
   "language": "python",
   "name": "python3"
  },
  "language_info": {
   "codemirror_mode": {
    "name": "ipython",
    "version": 3
   },
   "file_extension": ".py",
   "mimetype": "text/x-python",
   "name": "python",
   "nbconvert_exporter": "python",
   "pygments_lexer": "ipython3",
   "version": "3.6.2"
  }
 },
 "nbformat": 4,
 "nbformat_minor": 2
}
