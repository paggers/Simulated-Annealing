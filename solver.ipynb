{
 "cells": [
  {
   "cell_type": "code",
   "execution_count": 1,
   "metadata": {
    "collapsed": true
   },
   "outputs": [],
   "source": [
    "import sys\n",
    "import os\n",
    "import numpy as np\n",
    "import random as rand\n",
    "import math\n",
    "from pathlib import Path\n",
    "from multiprocessing import Pool\n",
    "from functools import partial"
   ]
  },
  {
   "cell_type": "code",
   "execution_count": 2,
   "metadata": {
    "collapsed": true
   },
   "outputs": [],
   "source": [
    "def readInput(filename):\n",
    "    with open(filename) as f:\n",
    "        numWizards = int(f.readline())\n",
    "#         trueOrder = f.readline().split(\" \")\n",
    "        numConstraints = int(f.readline())\n",
    "        constraints = []\n",
    "        wizards = set()\n",
    "        for _ in range(numConstraints):\n",
    "            c = f.readline().split()\n",
    "            constraints.append(c)\n",
    "            for w in c:\n",
    "                wizards.add(w)\n",
    "\n",
    "    wizards = list(wizards)\n",
    "    wizards.sort()\n",
    "    dictWizards = {}\n",
    "    for i in range(len(wizards)):\n",
    "        dictWizards[wizards[i]] = i\n",
    "    \n",
    "    for i in constraints:\n",
    "        for j in range(3):\n",
    "            i[j] = dictWizards[i[j]]\n",
    "        if int(i[0]) > int(i[1]):\n",
    "            i[0], i[1] = i[1], i[0]\n",
    "    return numWizards, numConstraints, list(range(numWizards)), constraints\n",
    "\n",
    "def displayInput(filename):\n",
    "    n, c, names, constraints = readInput(filename)\n",
    "    string = str(n) + \"\\n\"\n",
    "    string += \" \".join(names) + \"\\n\"\n",
    "    string += str(c) + \"\\n\"\n",
    "    for i in constraints:\n",
    "        string += \" \".join(i) + \"\\n\"\n",
    "    print(string)"
   ]
  },
  {
   "cell_type": "code",
   "execution_count": 3,
   "metadata": {
    "collapsed": true
   },
   "outputs": [],
   "source": [
    "# assigment is a dict: wix->index, constraints: list((a,b,c) ... (x,y,z))\n",
    "def h(assigment, constraints):\n",
    "    conflicts = 0\n",
    "    for constraint in constraints:\n",
    "        try:\n",
    "            t0, t1 = assigment[constraint[0]], assigment[constraint[1]]\n",
    "        except:\n",
    "            print(constraint)\n",
    "            print(len(assigment), assigment)\n",
    "        a = t0 if (t0 < t1) else t1\n",
    "        b = t0 + t1 - a\n",
    "        c = assigment[constraint[2]]\n",
    "        if a<c and c<b:\n",
    "            conflicts += 1\n",
    "    return conflicts"
   ]
  },
  {
   "cell_type": "code",
   "execution_count": 4,
   "metadata": {
    "collapsed": true
   },
   "outputs": [],
   "source": [
    "#currently gives a random assigment\n",
    "def getAssigment(numWiz, wizs):\n",
    "    indecies = list(range(1,numWiz+1))\n",
    "    rand.shuffle(indecies)\n",
    "    ass = {wizs[i]:indecies[i] for i in range(len(wizs))}\n",
    "    return ass"
   ]
  },
  {
   "cell_type": "code",
   "execution_count": 5,
   "metadata": {
    "collapsed": true
   },
   "outputs": [],
   "source": [
    "#Hill climbing solver\n",
    "def solve(wizs, constraints):\n",
    "    numWiz = len(wizs)\n",
    "    numCons = len(constraints)\n",
    "    ass = getAssigment(numWiz, wizs)\n",
    "    conflicts = h(ass, constraints) \n",
    "    while conflicts > 0:\n",
    "        best_score = conflicts\n",
    "        for i in range(numWiz):\n",
    "            for j in range(i+1,numWiz):\n",
    "                x = ass[wizs[i]]\n",
    "                y = ass[wizs[j]]\n",
    "                ass[wizs[i]] = y\n",
    "                ass[wizs[j]] = x\n",
    "\n",
    "                newScore = h(ass, constraints)\n",
    "                if newScore == 0:\n",
    "                    return ass\n",
    "                if newScore < best_score:\n",
    "                    best_ass = ass.copy()\n",
    "                    best_score = newScore\n",
    "                    \n",
    "                ass[wizs[i]] = x\n",
    "                ass[wizs[j]] = y\n",
    "        if best_score >= conflicts:\n",
    "            ass = getAssigment(numWiz, wizs)\n",
    "            conflicts = h(ass, constraints) \n",
    "        else:\n",
    "            conflicts = best_score\n",
    "            ass = best_ass.copy()"
   ]
  },
  {
   "cell_type": "code",
   "execution_count": 6,
   "metadata": {
    "collapsed": true,
    "scrolled": false
   },
   "outputs": [],
   "source": [
    "# Run hill climbing, takes a while to complete for large input!!!!!!!!!!!\n",
    "\n",
    "# %time sol = solve(wizs, constraints)\n",
    "# print('conflicts', h(sol, constraints))\n",
    "# for key in sol:\n",
    "#     print (key, sol[key])"
   ]
  },
  {
   "cell_type": "code",
   "execution_count": 7,
   "metadata": {
    "collapsed": true
   },
   "outputs": [],
   "source": [
    "# Calculate probabily for given state\n",
    "def acceptance_prob(oldCost, newCost, T):\n",
    "    exponent = (oldCost - newCost)/(1.0*T)\n",
    "#   if exponent > 0 probability will be >1. just return 1 to prevent crazy big numbers.\n",
    "    if exponent > 0:\n",
    "        return 1\n",
    "    p = math.e**exponent\n",
    "    return p"
   ]
  },
  {
   "cell_type": "code",
   "execution_count": 8,
   "metadata": {
    "collapsed": true
   },
   "outputs": [],
   "source": [
    "def anneal(wizs, constraints, start, bestAss=None):\n",
    "    numWiz = len(wizs)\n",
    "    numCons = len(constraints)\n",
    "    ass = start.copy()\n",
    "    conflicts = h(ass, constraints) \n",
    "    \n",
    "    bestScore = 500\n",
    "    if bestAss == None:\n",
    "        bestAss = [start.copy()]\n",
    "    \n",
    "#     meta parameters, T should be 1, 0.8<alpha<0.99, 100<iterations<1000 should work well\n",
    "    T = 1.0\n",
    "    T_min = 0.00001\n",
    "    alpha = 0.9\n",
    "    iterations = 500\n",
    "    while conflicts > 0 and T > T_min:\n",
    "        for i in range(iterations):\n",
    "#         Choosing 2 random wizards\n",
    "            wizA, wizB = rand.sample(wizs, 2)\n",
    "            \n",
    "            x = ass[wizA]\n",
    "            y = ass[wizB]\n",
    "            ass[wizA] = y\n",
    "            ass[wizB] = x\n",
    "            newScore = h(ass, constraints)\n",
    "#             if solution found, return\n",
    "            if newScore == 0:\n",
    "                return ass, None\n",
    "#             keeping track of best solutions found\n",
    "            if newScore == bestScore:\n",
    "                bestAss.append(ass.copy())\n",
    "            elif newScore < bestScore:\n",
    "                bestScore = newScore\n",
    "                bestAss = [ass.copy()]\n",
    "#                 calculating probability\n",
    "            ap = acceptance_prob(conflicts, newScore, T)\n",
    "#             save change\n",
    "            if ap > rand.random(): \n",
    "                conflicts = newScore\n",
    "#             revert change\n",
    "            else: \n",
    "                ass[wizA] = x\n",
    "                ass[wizB] = y\n",
    "#         reduce tempreture\n",
    "        T *= alpha\n",
    "    return bestAss[0], bestAss"
   ]
  },
  {
   "cell_type": "code",
   "execution_count": 9,
   "metadata": {
    "collapsed": false
   },
   "outputs": [
    {
     "name": "stdout",
     "output_type": "stream",
     "text": [
      "initial number of conflicts: 163\n",
      "solution conflicts 57\n",
      "best score: 57\n",
      "Wall time: 27 s\n"
     ]
    }
   ],
   "source": [
    "%%time \n",
    "numWiz, numCons, wizs, constraints = readInput('inputs50/input50_0.in')\n",
    "start = wizs.copy()\n",
    "rand.shuffle(start)\n",
    "print('initial number of conflicts:', h(start, constraints))\n",
    "sol, bestAss = anneal(wizs, constraints, start)\n",
    "print('solution conflicts', h(sol, constraints))\n",
    "# for key in sol:\n",
    "#     print (key, sol[key])\n",
    "print('best score:', h(sol, constraints))"
   ]
  },
  {
   "cell_type": "code",
   "execution_count": 15,
   "metadata": {
    "collapsed": false
   },
   "outputs": [
    {
     "name": "stdout",
     "output_type": "stream",
     "text": [
      "Jaden Logan Gayle Robby Beth Otis Alan Ursula Kedrick Dolores Henry Lois Michael Archie Fay Gabriella Lavana Delores Nikolas Louise Suzette Katherine Leroy Lesa Frances Willie Susan Cynthia Dianne Emerald Cam Pandora Rudy Vickie Leah Stephen Gilbert George Katrina Thelma Clifford Jodi Howard Neal Hanna Rod Armando Loretta Tony Anna Arrie Marsha Noel Dulce Carter Byron Leilani Kayla Giselle Mekhi Micah Alannah Shawn Tayla Beau Van Jeanette Laura Daniella Douglas Matthew Shelia Melinda Darius Jenny Elaina Rosie Kris Ahmad Malia Bradley Jean Niamh Silas Skylar Wanda Raquel Trent Donald Ciara Sterling Skye Harry Dashee Harper Victor Kendrick Homer Cheyenne Wilfred Bonita Sarah Bart Isiah Leo Karla Jaiden Shelby Darragh Stacy Camila Brad Quinn Taylor Katie Gena Sophie Nasir Melissa Tatiana Natalie Aurora Kyler Delbert Colleen Kaylin Shayla Tadhg Jeanine Annabella Joseph Matt Lorraine Harrison Hannah Laurel Casey Graham Lester Roosevelt Umar Lynnette Jonas Rhonda Kristi Dmitri Sammy Tina Miguel Trisha Jo Jesus Freddie Brynn Curt Sandy Tyson Lucy Marc Katelyn Ray Darrell Rodolfo Kylie Anika Rebecca Branden Dirk Avril Mona Jaylinn Sondra Dino Kurt Stuart Darnell Doreen Richard Luke Tia Darcy Erik Deborah Gary Noe Christopher Aniya Ernest Conner Karyn Kian Mitch Courtney Kobe Muhammad Will Tristen Brady Elliott Theresa \n"
     ]
    }
   ],
   "source": [
    "reinterpret(200,0, [78, 6, 61, 164, 186, 49, 129, 13, 46, 50, 121, 168, 102, 64, 4, 100, 111, 80, 197, 166, 153, 55, 30, 110, 54, 136, 98, 185, 89, 40, 124, 188, 192, 154, 27, 68, 180, 73, 175, 108, 161, 93, 182, 123, 17, 28, 172, 167, 145, 9, 88, 176, 69, 53, 75, 198, 29, 181, 187, 14, 24, 152, 15, 183, 2, 115, 37, 36, 58, 137, 44, 134, 94, 133, 92, 10, 97, 42, 103, 0, 106, 170, 81, 66, 128, 74, 151, 150, 41, 142, 130, 105, 189, 159, 21, 114, 38, 57, 125, 8, 96, 190, 193, 77, 144, 173, 122, 163, 67, 135, 16, 34, 56, 104, 22, 23, 138, 1, 11, 47, 132, 19, 157, 178, 141, 79, 158, 51, 131, 70, 59, 72, 118, 60, 12, 148, 191, 169, 194, 117, 120, 43, 82, 18, 184, 52, 5, 31, 112, 86, 160, 165, 143, 177, 3, 45, 162, 139, 76, 32, 146, 155, 101, 62, 126, 107, 71, 83, 91, 84, 171, 116, 109, 35, 90, 174, 26, 20, 127, 119, 63, 113, 39, 199, 179, 147, 48, 87, 149, 196, 156, 140, 7, 65, 33, 95, 85, 99, 195, 25])"
   ]
  },
  {
   "cell_type": "code",
   "execution_count": 14,
   "metadata": {
    "collapsed": true
   },
   "outputs": [],
   "source": [
    "def reinterpret(num, idx, seq):\n",
    "    with open('Staff_Inputs/staff_' + str(num) + '.in') as f:\n",
    "        numWizards = int(f.readline())\n",
    "#         trueOrder = f.readline().split(\" \")\n",
    "        numConstraints = int(f.readline())\n",
    "        constraints = []\n",
    "        wizards = set()\n",
    "        for _ in range(numConstraints):\n",
    "            c = f.readline().split()\n",
    "            constraints.append(c)\n",
    "            for w in c:\n",
    "                wizards.add(w)\n",
    "\n",
    "    wizards = list(wizards)\n",
    "    wizards.sort()\n",
    "    dictWizards = {}\n",
    "    for i in range(len(wizards)):\n",
    "        dictWizards[i] = wizards[i]\n",
    "    newOrder = [0] * len(seq)\n",
    "    for i in range(len(seq)):\n",
    "        newOrder[seq[i]] = dictWizards[i]\n",
    "    string = \"\"\n",
    "    for i in newOrder:\n",
    "        string += i + \" \"\n",
    "    print(string)\n",
    "    f = open('outputs/staff_' + str(num) + '.out', 'w')\n",
    "    f.write(string)\n",
    "    f.close()"
   ]
  },
  {
   "cell_type": "code",
   "execution_count": 13,
   "metadata": {
    "collapsed": false
   },
   "outputs": [
    {
     "name": "stdout",
     "output_type": "stream",
     "text": [
      "Problems remaining: [0, 1, 2, 9]\n"
     ]
    }
   ],
   "source": [
    "input_size = 50\n",
    "numWiz = [0] * 10\n",
    "numCons = [0] * 10\n",
    "wizs = [0] * 10\n",
    "Constraints = [0] * 10\n",
    "bestAss = []\n",
    "pool = []\n",
    "\n",
    "for i in range(10):\n",
    "    string = 'inputs' + str(input_size) + '/input' + str(input_size) + '_' + str(i)\n",
    "    numWiz[i], numCons[i], wizs[i], constraints[i] = readInput(string + '.in')\n",
    "    bestAss.append([wizs[i].copy()])\n",
    "    rand.shuffle(bestAss[i][0])\n",
    "    f = Path(string + \".out\")\n",
    "    if not f.is_file():\n",
    "        pool.append(i)\n",
    "print(\"Problems remaining:\", pool)"
   ]
  },
  {
   "cell_type": "code",
   "execution_count": 12,
   "metadata": {
    "collapsed": false
   },
   "outputs": [
    {
     "name": "stdout",
     "output_type": "stream",
     "text": [
      "[15, 41, 48]\n",
      "50 [10, 47, 1, 38, 14, 34, 49, 32, 23, 44, 41, 26, 0, 35, 30, 19, 4, 3, 21, 24, 25, 7, 37, 27, 18, 20, 31, 16, 43, 36, 29, 22, 9, 2, 17, 42, 40, 45, 39, 11, 33, 15, 8, 48, 46, 5, 28, 6, 12, 13]\n",
      "[15, 16, 19]\n",
      "50 [11, 47, 2, 37, 8, 33, 48, 32, 23, 44, 41, 27, 0, 35, 30, 21, 1, 16, 22, 24, 25, 7, 49, 29, 18, 19, 31, 4, 43, 36, 28, 20, 9, 3, 17, 42, 40, 45, 38, 12, 34, 15, 10, 39, 46, 5, 26, 6, 13, 14]\n",
      "5 [25, 22, 34, 21, 28, 42, 49, 46, 6, 20, 39, 38, 0, 33, 41, 27, 3, 45, 1, 18, 24, 19, 7, 2, 44, 37, 11, 17, 36, 35, 48, 10, 43, 12, 9, 47, 29, 30, 26, 4, 31, 15, 14, 13, 32, 5, 40, 16, 23, 8]\n",
      "Elyza Deborah Kale Bailey Shannon Benita Alicia Tammi Wayne Matilda Kendall Kurt Timmy Gerardo Ebony Suzanne Trinity Cecelia Neal Dakota Bradwin Cathy Taylor Neil Michael Darius Grady Aden Paulina Kathy Ronan Chloe Cathleen Gloria Garrett Dolores Wanda Callum Vladimir Salvatore Henry Nelly Alexa Isabella Jasmine Orlando Aimee Mohamed Elijah Kolby \n"
     ]
    },
    {
     "ename": "UnsupportedOperation",
     "evalue": "not writable",
     "output_type": "error",
     "traceback": [
      "\u001b[1;31m---------------------------------------------------------------------------\u001b[0m",
      "\u001b[1;31mUnsupportedOperation\u001b[0m                      Traceback (most recent call last)",
      "\u001b[1;32m<ipython-input-12-4160b9738d0b>\u001b[0m in \u001b[0;36m<module>\u001b[1;34m()\u001b[0m\n\u001b[0;32m      7\u001b[0m             \u001b[0mpool\u001b[0m\u001b[1;33m.\u001b[0m\u001b[0mremove\u001b[0m\u001b[1;33m(\u001b[0m\u001b[0mi\u001b[0m\u001b[1;33m)\u001b[0m\u001b[1;33m\u001b[0m\u001b[0m\n\u001b[0;32m      8\u001b[0m             \u001b[0mprint\u001b[0m\u001b[1;33m(\u001b[0m\u001b[0mi\u001b[0m\u001b[1;33m,\u001b[0m \u001b[0msol\u001b[0m\u001b[1;33m)\u001b[0m\u001b[1;33m\u001b[0m\u001b[0m\n\u001b[1;32m----> 9\u001b[1;33m             \u001b[0mreinterpret\u001b[0m\u001b[1;33m(\u001b[0m\u001b[0minput_size\u001b[0m\u001b[1;33m,\u001b[0m \u001b[0mi\u001b[0m\u001b[1;33m,\u001b[0m \u001b[0msol\u001b[0m\u001b[1;33m)\u001b[0m\u001b[1;33m\u001b[0m\u001b[0m\n\u001b[0m\u001b[0;32m     10\u001b[0m             \u001b[1;32mbreak\u001b[0m\u001b[1;33m\u001b[0m\u001b[0m\n\u001b[0;32m     11\u001b[0m         \u001b[1;32melse\u001b[0m\u001b[1;33m:\u001b[0m\u001b[1;33m\u001b[0m\u001b[0m\n",
      "\u001b[1;32m<ipython-input-10-5c50dd8a1c9d>\u001b[0m in \u001b[0;36mreinterpret\u001b[1;34m(num, idx, seq)\u001b[0m\n\u001b[0;32m     24\u001b[0m     \u001b[0mprint\u001b[0m\u001b[1;33m(\u001b[0m\u001b[0mstring\u001b[0m\u001b[1;33m)\u001b[0m\u001b[1;33m\u001b[0m\u001b[0m\n\u001b[0;32m     25\u001b[0m     \u001b[0mf\u001b[0m \u001b[1;33m=\u001b[0m \u001b[0mopen\u001b[0m\u001b[1;33m(\u001b[0m\u001b[1;34m'inputs'\u001b[0m \u001b[1;33m+\u001b[0m \u001b[0mstr\u001b[0m\u001b[1;33m(\u001b[0m\u001b[0mnum\u001b[0m\u001b[1;33m)\u001b[0m \u001b[1;33m+\u001b[0m \u001b[1;34m'/input'\u001b[0m \u001b[1;33m+\u001b[0m \u001b[0mstr\u001b[0m\u001b[1;33m(\u001b[0m\u001b[0mnum\u001b[0m\u001b[1;33m)\u001b[0m \u001b[1;33m+\u001b[0m \u001b[1;34m'_'\u001b[0m \u001b[1;33m+\u001b[0m \u001b[0mstr\u001b[0m\u001b[1;33m(\u001b[0m\u001b[0midx\u001b[0m\u001b[1;33m)\u001b[0m \u001b[1;33m+\u001b[0m \u001b[1;34m'.out'\u001b[0m\u001b[1;33m)\u001b[0m\u001b[1;33m\u001b[0m\u001b[0m\n\u001b[1;32m---> 26\u001b[1;33m     \u001b[0mf\u001b[0m\u001b[1;33m.\u001b[0m\u001b[0mwrite\u001b[0m\u001b[1;33m(\u001b[0m\u001b[0mstring\u001b[0m\u001b[1;33m)\u001b[0m\u001b[1;33m\u001b[0m\u001b[0m\n\u001b[0m\u001b[0;32m     27\u001b[0m     \u001b[0mf\u001b[0m\u001b[1;33m.\u001b[0m\u001b[0mclose\u001b[0m\u001b[1;33m(\u001b[0m\u001b[1;33m)\u001b[0m\u001b[1;33m\u001b[0m\u001b[0m\n",
      "\u001b[1;31mUnsupportedOperation\u001b[0m: not writable"
     ]
    }
   ],
   "source": [
    "while len(pool) > 0:\n",
    "    for i in pool:\n",
    "        start = wizs[i].copy()\n",
    "        rand.shuffle(start)\n",
    "        sol, retAss = anneal(wizs[i], constraints[i], start)\n",
    "        if retAss == None:\n",
    "            pool.remove(i)\n",
    "            print(i, sol)\n",
    "            reinterpret(input_size, i, sol)\n",
    "            break\n",
    "        else:\n",
    "            bestAss[i] = retAss"
   ]
  },
  {
   "cell_type": "code",
   "execution_count": null,
   "metadata": {
    "collapsed": true
   },
   "outputs": [],
   "source": [
    "%%time\n",
    "partial_aneal = partial(anneal, wizs, constraints)\n",
    "p = Pool()\n",
    "starts = [getAssigment(numWiz, wizs) for _ in range(100)]\n",
    "results = p.map(partial_aneal, starts)"
   ]
  }
 ],
 "metadata": {
  "kernelspec": {
   "display_name": "Python 3",
   "language": "python",
   "name": "python3"
  },
  "language_info": {
   "codemirror_mode": {
    "name": "ipython",
    "version": 3
   },
   "file_extension": ".py",
   "mimetype": "text/x-python",
   "name": "python",
   "nbconvert_exporter": "python",
   "pygments_lexer": "ipython3",
   "version": "3.4.5"
  }
 },
 "nbformat": 4,
 "nbformat_minor": 2
}
